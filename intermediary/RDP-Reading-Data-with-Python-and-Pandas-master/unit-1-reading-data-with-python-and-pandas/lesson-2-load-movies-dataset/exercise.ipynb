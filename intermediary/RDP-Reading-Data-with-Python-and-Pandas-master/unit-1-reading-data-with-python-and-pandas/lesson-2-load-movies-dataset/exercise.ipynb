{
 "cells": [
  {
   "cell_type": "code",
   "execution_count": 13,
   "metadata": {
    "collapsed": true
   },
   "outputs": [
    {
     "data": {
      "text/plain": "                      1      2      3            4   \\\n0                                                     \nColor      James Cameron  723.0  178.0  760505847.0   \nColor     Gore Verbinski  302.0  169.0  309404152.0   \nColor         Sam Mendes  602.0  148.0  200074175.0   \nColor  Christopher Nolan  813.0  164.0  448130642.0   \nNaN          Doug Walker    NaN    NaN          NaN   \nColor     Andrew Stanton  462.0  132.0   73058679.0   \nColor          Sam Raimi  392.0  156.0  336530303.0   \nColor       Nathan Greno  324.0  100.0  200807262.0   \nColor        Joss Whedon  635.0  141.0  458991599.0   \nColor        David Yates  375.0  153.0  301956980.0   \n\n                                                      5       6    7      8   \\\n0                                                                              \nColor                                            Avatar   3054.0  USA  PG-13   \nColor          Pirates of the Caribbean: At World's End   1238.0  USA  PG-13   \nColor                                           Spectre    994.0   UK  PG-13   \nColor                             The Dark Knight Rises   2701.0  USA  PG-13   \nNaN    Star Wars: Episode VII - The Force Awakens    ...     NaN  NaN    NaN   \nColor                                       John Carter    738.0  USA  PG-13   \nColor                                      Spider-Man 3   1902.0  USA  PG-13   \nColor                                           Tangled    387.0  USA     PG   \nColor                           Avengers: Age of Ultron   1117.0  USA  PG-13   \nColor            Harry Potter and the Half-Blood Prince    973.0   UK     PG   \n\n                  9       10   11           12  \n0                                               \nColor  237,000,000.0  2009.0  7.9       Action  \nColor  300,000,000.0  2007.0  7.1       Action  \nColor  245,000,000.0  2015.0  6.8       Action  \nColor  250,000,000.0  2012.0  8.5       Action  \nNaN              NaN     NaN  7.1  Documentary  \nColor  263,700,000.0  2012.0  6.6       Action  \nColor  258,000,000.0  2007.0  6.2       Action  \nColor  260,000,000.0  2010.0  7.8    Adventure  \nColor  250,000,000.0  2015.0  7.5       Action  \nColor  250,000,000.0  2009.0  7.5    Adventure  ",
      "text/html": "<div>\n<style scoped>\n    .dataframe tbody tr th:only-of-type {\n        vertical-align: middle;\n    }\n\n    .dataframe tbody tr th {\n        vertical-align: top;\n    }\n\n    .dataframe thead th {\n        text-align: right;\n    }\n</style>\n<table border=\"1\" class=\"dataframe\">\n  <thead>\n    <tr style=\"text-align: right;\">\n      <th></th>\n      <th>1</th>\n      <th>2</th>\n      <th>3</th>\n      <th>4</th>\n      <th>5</th>\n      <th>6</th>\n      <th>7</th>\n      <th>8</th>\n      <th>9</th>\n      <th>10</th>\n      <th>11</th>\n      <th>12</th>\n    </tr>\n    <tr>\n      <th>0</th>\n      <th></th>\n      <th></th>\n      <th></th>\n      <th></th>\n      <th></th>\n      <th></th>\n      <th></th>\n      <th></th>\n      <th></th>\n      <th></th>\n      <th></th>\n      <th></th>\n    </tr>\n  </thead>\n  <tbody>\n    <tr>\n      <th>Color</th>\n      <td>James Cameron</td>\n      <td>723.0</td>\n      <td>178.0</td>\n      <td>760505847.0</td>\n      <td>Avatar</td>\n      <td>3054.0</td>\n      <td>USA</td>\n      <td>PG-13</td>\n      <td>237,000,000.0</td>\n      <td>2009.0</td>\n      <td>7.9</td>\n      <td>Action</td>\n    </tr>\n    <tr>\n      <th>Color</th>\n      <td>Gore Verbinski</td>\n      <td>302.0</td>\n      <td>169.0</td>\n      <td>309404152.0</td>\n      <td>Pirates of the Caribbean: At World's End</td>\n      <td>1238.0</td>\n      <td>USA</td>\n      <td>PG-13</td>\n      <td>300,000,000.0</td>\n      <td>2007.0</td>\n      <td>7.1</td>\n      <td>Action</td>\n    </tr>\n    <tr>\n      <th>Color</th>\n      <td>Sam Mendes</td>\n      <td>602.0</td>\n      <td>148.0</td>\n      <td>200074175.0</td>\n      <td>Spectre</td>\n      <td>994.0</td>\n      <td>UK</td>\n      <td>PG-13</td>\n      <td>245,000,000.0</td>\n      <td>2015.0</td>\n      <td>6.8</td>\n      <td>Action</td>\n    </tr>\n    <tr>\n      <th>Color</th>\n      <td>Christopher Nolan</td>\n      <td>813.0</td>\n      <td>164.0</td>\n      <td>448130642.0</td>\n      <td>The Dark Knight Rises</td>\n      <td>2701.0</td>\n      <td>USA</td>\n      <td>PG-13</td>\n      <td>250,000,000.0</td>\n      <td>2012.0</td>\n      <td>8.5</td>\n      <td>Action</td>\n    </tr>\n    <tr>\n      <th>NaN</th>\n      <td>Doug Walker</td>\n      <td>NaN</td>\n      <td>NaN</td>\n      <td>NaN</td>\n      <td>Star Wars: Episode VII - The Force Awakens    ...</td>\n      <td>NaN</td>\n      <td>NaN</td>\n      <td>NaN</td>\n      <td>NaN</td>\n      <td>NaN</td>\n      <td>7.1</td>\n      <td>Documentary</td>\n    </tr>\n    <tr>\n      <th>Color</th>\n      <td>Andrew Stanton</td>\n      <td>462.0</td>\n      <td>132.0</td>\n      <td>73058679.0</td>\n      <td>John Carter</td>\n      <td>738.0</td>\n      <td>USA</td>\n      <td>PG-13</td>\n      <td>263,700,000.0</td>\n      <td>2012.0</td>\n      <td>6.6</td>\n      <td>Action</td>\n    </tr>\n    <tr>\n      <th>Color</th>\n      <td>Sam Raimi</td>\n      <td>392.0</td>\n      <td>156.0</td>\n      <td>336530303.0</td>\n      <td>Spider-Man 3</td>\n      <td>1902.0</td>\n      <td>USA</td>\n      <td>PG-13</td>\n      <td>258,000,000.0</td>\n      <td>2007.0</td>\n      <td>6.2</td>\n      <td>Action</td>\n    </tr>\n    <tr>\n      <th>Color</th>\n      <td>Nathan Greno</td>\n      <td>324.0</td>\n      <td>100.0</td>\n      <td>200807262.0</td>\n      <td>Tangled</td>\n      <td>387.0</td>\n      <td>USA</td>\n      <td>PG</td>\n      <td>260,000,000.0</td>\n      <td>2010.0</td>\n      <td>7.8</td>\n      <td>Adventure</td>\n    </tr>\n    <tr>\n      <th>Color</th>\n      <td>Joss Whedon</td>\n      <td>635.0</td>\n      <td>141.0</td>\n      <td>458991599.0</td>\n      <td>Avengers: Age of Ultron</td>\n      <td>1117.0</td>\n      <td>USA</td>\n      <td>PG-13</td>\n      <td>250,000,000.0</td>\n      <td>2015.0</td>\n      <td>7.5</td>\n      <td>Action</td>\n    </tr>\n    <tr>\n      <th>Color</th>\n      <td>David Yates</td>\n      <td>375.0</td>\n      <td>153.0</td>\n      <td>301956980.0</td>\n      <td>Harry Potter and the Half-Blood Prince</td>\n      <td>973.0</td>\n      <td>UK</td>\n      <td>PG</td>\n      <td>250,000,000.0</td>\n      <td>2009.0</td>\n      <td>7.5</td>\n      <td>Adventure</td>\n    </tr>\n  </tbody>\n</table>\n</div>"
     },
     "execution_count": 13,
     "metadata": {},
     "output_type": "execute_result"
    }
   ],
   "source": [
    "# Read and store movie data in a dataframe\n",
    "\n",
    "import pandas as pd\n",
    "import numpy as np\n",
    "\n",
    "df = pd.read_csv('files/movies.csv',\n",
    "                 sep='|', na_values='?',\n",
    "                 header=None,\n",
    "                 index_col=[0])\n",
    "df.head(10)"
   ]
  },
  {
   "cell_type": "code",
   "execution_count": 20,
   "outputs": [
    {
     "data": {
      "text/plain": "              main_actor  price  series       length  \\\nColor  Christopher Nolan  813.0   164.0  448130642.0   \nColor     Andrew Stanton  462.0   132.0   73058679.0   \nColor          Sam Raimi  392.0   156.0  336530303.0   \nColor       Nathan Greno  324.0   100.0  200807262.0   \nColor        Joss Whedon  635.0   141.0  458991599.0   \n...                  ...    ...     ...          ...   \nColor    Jonathan Mostow  280.0   109.0  150350192.0   \nColor         James Gunn  653.0   121.0  333130696.0   \nColor  Christopher Nolan  712.0   169.0  187991439.0   \nColor  Christopher Nolan  642.0   148.0  292568851.0   \nColor      Peter Jackson  645.0   182.0  303001229.0   \n\n                                movie_name  episode made_in  parts  \\\nColor               The Dark Knight Rises    2701.0     USA  PG-13   \nColor                         John Carter     738.0     USA  PG-13   \nColor                        Spider-Man 3    1902.0     USA  PG-13   \nColor                             Tangled     387.0     USA     PG   \nColor             Avengers: Age of Ultron    1117.0     USA  PG-13   \n...                                    ...      ...     ...    ...   \nColor  Terminator 3: Rise of the Machines    1676.0     USA      R   \nColor             Guardians of the Galaxy    1097.0     USA  PG-13   \nColor                        Interstellar    2725.0     USA  PG-13   \nColor                           Inception    2803.0     USA  PG-13   \nColor   The Hobbit: An Unexpected Journey    1367.0     USA  PG-13   \n\n             revenue  year_published  recommendation movie_type  \nColor  250,000,000.0          2012.0             8.5     Action  \nColor  263,700,000.0          2012.0             6.6     Action  \nColor  258,000,000.0          2007.0             6.2     Action  \nColor  260,000,000.0          2010.0             7.8  Adventure  \nColor  250,000,000.0          2015.0             7.5     Action  \n...              ...             ...             ...        ...  \nColor  200,000,000.0          2003.0             6.4     Action  \nColor  170,000,000.0          2014.0             8.1     Action  \nColor  165,000,000.0          2014.0             8.6  Adventure  \nColor  160,000,000.0          2010.0             8.8     Action  \nColor  180,000,000.0          2012.0             7.9  Adventure  \n\n[93 rows x 12 columns]",
      "text/html": "<div>\n<style scoped>\n    .dataframe tbody tr th:only-of-type {\n        vertical-align: middle;\n    }\n\n    .dataframe tbody tr th {\n        vertical-align: top;\n    }\n\n    .dataframe thead th {\n        text-align: right;\n    }\n</style>\n<table border=\"1\" class=\"dataframe\">\n  <thead>\n    <tr style=\"text-align: right;\">\n      <th></th>\n      <th>main_actor</th>\n      <th>price</th>\n      <th>series</th>\n      <th>length</th>\n      <th>movie_name</th>\n      <th>episode</th>\n      <th>made_in</th>\n      <th>parts</th>\n      <th>revenue</th>\n      <th>year_published</th>\n      <th>recommendation</th>\n      <th>movie_type</th>\n    </tr>\n  </thead>\n  <tbody>\n    <tr>\n      <th>Color</th>\n      <td>Christopher Nolan</td>\n      <td>813.0</td>\n      <td>164.0</td>\n      <td>448130642.0</td>\n      <td>The Dark Knight Rises</td>\n      <td>2701.0</td>\n      <td>USA</td>\n      <td>PG-13</td>\n      <td>250,000,000.0</td>\n      <td>2012.0</td>\n      <td>8.5</td>\n      <td>Action</td>\n    </tr>\n    <tr>\n      <th>Color</th>\n      <td>Andrew Stanton</td>\n      <td>462.0</td>\n      <td>132.0</td>\n      <td>73058679.0</td>\n      <td>John Carter</td>\n      <td>738.0</td>\n      <td>USA</td>\n      <td>PG-13</td>\n      <td>263,700,000.0</td>\n      <td>2012.0</td>\n      <td>6.6</td>\n      <td>Action</td>\n    </tr>\n    <tr>\n      <th>Color</th>\n      <td>Sam Raimi</td>\n      <td>392.0</td>\n      <td>156.0</td>\n      <td>336530303.0</td>\n      <td>Spider-Man 3</td>\n      <td>1902.0</td>\n      <td>USA</td>\n      <td>PG-13</td>\n      <td>258,000,000.0</td>\n      <td>2007.0</td>\n      <td>6.2</td>\n      <td>Action</td>\n    </tr>\n    <tr>\n      <th>Color</th>\n      <td>Nathan Greno</td>\n      <td>324.0</td>\n      <td>100.0</td>\n      <td>200807262.0</td>\n      <td>Tangled</td>\n      <td>387.0</td>\n      <td>USA</td>\n      <td>PG</td>\n      <td>260,000,000.0</td>\n      <td>2010.0</td>\n      <td>7.8</td>\n      <td>Adventure</td>\n    </tr>\n    <tr>\n      <th>Color</th>\n      <td>Joss Whedon</td>\n      <td>635.0</td>\n      <td>141.0</td>\n      <td>458991599.0</td>\n      <td>Avengers: Age of Ultron</td>\n      <td>1117.0</td>\n      <td>USA</td>\n      <td>PG-13</td>\n      <td>250,000,000.0</td>\n      <td>2015.0</td>\n      <td>7.5</td>\n      <td>Action</td>\n    </tr>\n    <tr>\n      <th>...</th>\n      <td>...</td>\n      <td>...</td>\n      <td>...</td>\n      <td>...</td>\n      <td>...</td>\n      <td>...</td>\n      <td>...</td>\n      <td>...</td>\n      <td>...</td>\n      <td>...</td>\n      <td>...</td>\n      <td>...</td>\n    </tr>\n    <tr>\n      <th>Color</th>\n      <td>Jonathan Mostow</td>\n      <td>280.0</td>\n      <td>109.0</td>\n      <td>150350192.0</td>\n      <td>Terminator 3: Rise of the Machines</td>\n      <td>1676.0</td>\n      <td>USA</td>\n      <td>R</td>\n      <td>200,000,000.0</td>\n      <td>2003.0</td>\n      <td>6.4</td>\n      <td>Action</td>\n    </tr>\n    <tr>\n      <th>Color</th>\n      <td>James Gunn</td>\n      <td>653.0</td>\n      <td>121.0</td>\n      <td>333130696.0</td>\n      <td>Guardians of the Galaxy</td>\n      <td>1097.0</td>\n      <td>USA</td>\n      <td>PG-13</td>\n      <td>170,000,000.0</td>\n      <td>2014.0</td>\n      <td>8.1</td>\n      <td>Action</td>\n    </tr>\n    <tr>\n      <th>Color</th>\n      <td>Christopher Nolan</td>\n      <td>712.0</td>\n      <td>169.0</td>\n      <td>187991439.0</td>\n      <td>Interstellar</td>\n      <td>2725.0</td>\n      <td>USA</td>\n      <td>PG-13</td>\n      <td>165,000,000.0</td>\n      <td>2014.0</td>\n      <td>8.6</td>\n      <td>Adventure</td>\n    </tr>\n    <tr>\n      <th>Color</th>\n      <td>Christopher Nolan</td>\n      <td>642.0</td>\n      <td>148.0</td>\n      <td>292568851.0</td>\n      <td>Inception</td>\n      <td>2803.0</td>\n      <td>USA</td>\n      <td>PG-13</td>\n      <td>160,000,000.0</td>\n      <td>2010.0</td>\n      <td>8.8</td>\n      <td>Action</td>\n    </tr>\n    <tr>\n      <th>Color</th>\n      <td>Peter Jackson</td>\n      <td>645.0</td>\n      <td>182.0</td>\n      <td>303001229.0</td>\n      <td>The Hobbit: An Unexpected Journey</td>\n      <td>1367.0</td>\n      <td>USA</td>\n      <td>PG-13</td>\n      <td>180,000,000.0</td>\n      <td>2012.0</td>\n      <td>7.9</td>\n      <td>Adventure</td>\n    </tr>\n  </tbody>\n</table>\n<p>93 rows × 12 columns</p>\n</div>"
     },
     "execution_count": 20,
     "metadata": {},
     "output_type": "execute_result"
    }
   ],
   "source": [
    "names = ['main_actor', 'price', 'series',\n",
    "         'length', 'movie_name', 'episode',\n",
    "         'made_in', 'parts', 'revenue', 'year_published',\n",
    "         'recommendation', 'movie_type']\n",
    "\n",
    "df = pd.read_csv('files/movies.csv', header=None, sep='|',\n",
    "                 na_values='?', index_col=[0], names=names,\n",
    "                 skiprows=3)\n",
    "df_cleaned = df.dropna()\n",
    "df_cleaned"
   ],
   "metadata": {
    "collapsed": false
   }
  },
  {
   "cell_type": "code",
   "execution_count": 22,
   "outputs": [
    {
     "data": {
      "text/plain": "              main_actor  price  series       length  \\\nColor  Christopher Nolan  813.0   164.0  448130642.0   \nColor     Andrew Stanton  462.0   132.0   73058679.0   \nColor          Sam Raimi  392.0   156.0  336530303.0   \nColor       Nathan Greno  324.0   100.0  200807262.0   \nColor        Joss Whedon  635.0   141.0  458991599.0   \nColor        David Yates  375.0   153.0  301956980.0   \nColor        Zack Snyder  673.0   183.0  330249062.0   \nColor       Bryan Singer  434.0   169.0  200069408.0   \nColor       Marc Forster  403.0   106.0  168368427.0   \nColor     Gore Verbinski  313.0   151.0  423032628.0   \n\n                                        movie_name  episode made_in  parts  \\\nColor                       The Dark Knight Rises    2701.0     USA  PG-13   \nColor                                 John Carter     738.0     USA  PG-13   \nColor                                Spider-Man 3    1902.0     USA  PG-13   \nColor                                     Tangled     387.0     USA     PG   \nColor                     Avengers: Age of Ultron    1117.0     USA  PG-13   \nColor      Harry Potter and the Half-Blood Prince     973.0      UK     PG   \nColor          Batman v Superman: Dawn of Justice    3018.0     USA  PG-13   \nColor                            Superman Returns    2367.0     USA  PG-13   \nColor                           Quantum of Solace    1243.0      UK  PG-13   \nColor  Pirates of the Caribbean: Dead Man's Chest    1832.0     USA  PG-13   \n\n             revenue  year_published  recommendation movie_type  \nColor  250,000,000.0          2012.0             8.5     Action  \nColor  263,700,000.0          2012.0             6.6     Action  \nColor  258,000,000.0          2007.0             6.2     Action  \nColor  260,000,000.0          2010.0             7.8  Adventure  \nColor  250,000,000.0          2015.0             7.5     Action  \nColor  250,000,000.0          2009.0             7.5  Adventure  \nColor  250,000,000.0          2016.0             6.9     Action  \nColor  209,000,000.0          2006.0             6.1     Action  \nColor  200,000,000.0          2008.0             6.7     Action  \nColor  225,000,000.0          2006.0             7.3     Action  ",
      "text/html": "<div>\n<style scoped>\n    .dataframe tbody tr th:only-of-type {\n        vertical-align: middle;\n    }\n\n    .dataframe tbody tr th {\n        vertical-align: top;\n    }\n\n    .dataframe thead th {\n        text-align: right;\n    }\n</style>\n<table border=\"1\" class=\"dataframe\">\n  <thead>\n    <tr style=\"text-align: right;\">\n      <th></th>\n      <th>main_actor</th>\n      <th>price</th>\n      <th>series</th>\n      <th>length</th>\n      <th>movie_name</th>\n      <th>episode</th>\n      <th>made_in</th>\n      <th>parts</th>\n      <th>revenue</th>\n      <th>year_published</th>\n      <th>recommendation</th>\n      <th>movie_type</th>\n    </tr>\n  </thead>\n  <tbody>\n    <tr>\n      <th>Color</th>\n      <td>Christopher Nolan</td>\n      <td>813.0</td>\n      <td>164.0</td>\n      <td>448130642.0</td>\n      <td>The Dark Knight Rises</td>\n      <td>2701.0</td>\n      <td>USA</td>\n      <td>PG-13</td>\n      <td>250,000,000.0</td>\n      <td>2012.0</td>\n      <td>8.5</td>\n      <td>Action</td>\n    </tr>\n    <tr>\n      <th>Color</th>\n      <td>Andrew Stanton</td>\n      <td>462.0</td>\n      <td>132.0</td>\n      <td>73058679.0</td>\n      <td>John Carter</td>\n      <td>738.0</td>\n      <td>USA</td>\n      <td>PG-13</td>\n      <td>263,700,000.0</td>\n      <td>2012.0</td>\n      <td>6.6</td>\n      <td>Action</td>\n    </tr>\n    <tr>\n      <th>Color</th>\n      <td>Sam Raimi</td>\n      <td>392.0</td>\n      <td>156.0</td>\n      <td>336530303.0</td>\n      <td>Spider-Man 3</td>\n      <td>1902.0</td>\n      <td>USA</td>\n      <td>PG-13</td>\n      <td>258,000,000.0</td>\n      <td>2007.0</td>\n      <td>6.2</td>\n      <td>Action</td>\n    </tr>\n    <tr>\n      <th>Color</th>\n      <td>Nathan Greno</td>\n      <td>324.0</td>\n      <td>100.0</td>\n      <td>200807262.0</td>\n      <td>Tangled</td>\n      <td>387.0</td>\n      <td>USA</td>\n      <td>PG</td>\n      <td>260,000,000.0</td>\n      <td>2010.0</td>\n      <td>7.8</td>\n      <td>Adventure</td>\n    </tr>\n    <tr>\n      <th>Color</th>\n      <td>Joss Whedon</td>\n      <td>635.0</td>\n      <td>141.0</td>\n      <td>458991599.0</td>\n      <td>Avengers: Age of Ultron</td>\n      <td>1117.0</td>\n      <td>USA</td>\n      <td>PG-13</td>\n      <td>250,000,000.0</td>\n      <td>2015.0</td>\n      <td>7.5</td>\n      <td>Action</td>\n    </tr>\n    <tr>\n      <th>Color</th>\n      <td>David Yates</td>\n      <td>375.0</td>\n      <td>153.0</td>\n      <td>301956980.0</td>\n      <td>Harry Potter and the Half-Blood Prince</td>\n      <td>973.0</td>\n      <td>UK</td>\n      <td>PG</td>\n      <td>250,000,000.0</td>\n      <td>2009.0</td>\n      <td>7.5</td>\n      <td>Adventure</td>\n    </tr>\n    <tr>\n      <th>Color</th>\n      <td>Zack Snyder</td>\n      <td>673.0</td>\n      <td>183.0</td>\n      <td>330249062.0</td>\n      <td>Batman v Superman: Dawn of Justice</td>\n      <td>3018.0</td>\n      <td>USA</td>\n      <td>PG-13</td>\n      <td>250,000,000.0</td>\n      <td>2016.0</td>\n      <td>6.9</td>\n      <td>Action</td>\n    </tr>\n    <tr>\n      <th>Color</th>\n      <td>Bryan Singer</td>\n      <td>434.0</td>\n      <td>169.0</td>\n      <td>200069408.0</td>\n      <td>Superman Returns</td>\n      <td>2367.0</td>\n      <td>USA</td>\n      <td>PG-13</td>\n      <td>209,000,000.0</td>\n      <td>2006.0</td>\n      <td>6.1</td>\n      <td>Action</td>\n    </tr>\n    <tr>\n      <th>Color</th>\n      <td>Marc Forster</td>\n      <td>403.0</td>\n      <td>106.0</td>\n      <td>168368427.0</td>\n      <td>Quantum of Solace</td>\n      <td>1243.0</td>\n      <td>UK</td>\n      <td>PG-13</td>\n      <td>200,000,000.0</td>\n      <td>2008.0</td>\n      <td>6.7</td>\n      <td>Action</td>\n    </tr>\n    <tr>\n      <th>Color</th>\n      <td>Gore Verbinski</td>\n      <td>313.0</td>\n      <td>151.0</td>\n      <td>423032628.0</td>\n      <td>Pirates of the Caribbean: Dead Man's Chest</td>\n      <td>1832.0</td>\n      <td>USA</td>\n      <td>PG-13</td>\n      <td>225,000,000.0</td>\n      <td>2006.0</td>\n      <td>7.3</td>\n      <td>Action</td>\n    </tr>\n  </tbody>\n</table>\n</div>"
     },
     "execution_count": 22,
     "metadata": {},
     "output_type": "execute_result"
    }
   ],
   "source": [
    "df_cleaned.head(10)"
   ],
   "metadata": {
    "collapsed": false
   }
  },
  {
   "cell_type": "code",
   "execution_count": 34,
   "outputs": [
    {
     "data": {
      "text/plain": "                        user_id  item_id  rating  timestamp\n0           0\\t50\\t5\\t881250949      NaN     NaN        NaN\n1          0\\t172\\t5\\t881250949      NaN     NaN        NaN\n2          0\\t133\\t1\\t881250949      NaN     NaN        NaN\n3        196\\t242\\t3\\t881250949      NaN     NaN        NaN\n4        186\\t302\\t3\\t891717742      NaN     NaN        NaN\n...                         ...      ...     ...        ...\n99998    880\\t476\\t3\\t880175444      NaN     NaN        NaN\n99999    716\\t204\\t5\\t879795543      NaN     NaN        NaN\n100000  276\\t1090\\t1\\t874795795      NaN     NaN        NaN\n100001    13\\t225\\t2\\t882399156      NaN     NaN        NaN\n100002    12\\t203\\t3\\t879959583      NaN     NaN        NaN\n\n[100003 rows x 4 columns]",
      "text/html": "<div>\n<style scoped>\n    .dataframe tbody tr th:only-of-type {\n        vertical-align: middle;\n    }\n\n    .dataframe tbody tr th {\n        vertical-align: top;\n    }\n\n    .dataframe thead th {\n        text-align: right;\n    }\n</style>\n<table border=\"1\" class=\"dataframe\">\n  <thead>\n    <tr style=\"text-align: right;\">\n      <th></th>\n      <th>user_id</th>\n      <th>item_id</th>\n      <th>rating</th>\n      <th>timestamp</th>\n    </tr>\n  </thead>\n  <tbody>\n    <tr>\n      <th>0</th>\n      <td>0\\t50\\t5\\t881250949</td>\n      <td>NaN</td>\n      <td>NaN</td>\n      <td>NaN</td>\n    </tr>\n    <tr>\n      <th>1</th>\n      <td>0\\t172\\t5\\t881250949</td>\n      <td>NaN</td>\n      <td>NaN</td>\n      <td>NaN</td>\n    </tr>\n    <tr>\n      <th>2</th>\n      <td>0\\t133\\t1\\t881250949</td>\n      <td>NaN</td>\n      <td>NaN</td>\n      <td>NaN</td>\n    </tr>\n    <tr>\n      <th>3</th>\n      <td>196\\t242\\t3\\t881250949</td>\n      <td>NaN</td>\n      <td>NaN</td>\n      <td>NaN</td>\n    </tr>\n    <tr>\n      <th>4</th>\n      <td>186\\t302\\t3\\t891717742</td>\n      <td>NaN</td>\n      <td>NaN</td>\n      <td>NaN</td>\n    </tr>\n    <tr>\n      <th>...</th>\n      <td>...</td>\n      <td>...</td>\n      <td>...</td>\n      <td>...</td>\n    </tr>\n    <tr>\n      <th>99998</th>\n      <td>880\\t476\\t3\\t880175444</td>\n      <td>NaN</td>\n      <td>NaN</td>\n      <td>NaN</td>\n    </tr>\n    <tr>\n      <th>99999</th>\n      <td>716\\t204\\t5\\t879795543</td>\n      <td>NaN</td>\n      <td>NaN</td>\n      <td>NaN</td>\n    </tr>\n    <tr>\n      <th>100000</th>\n      <td>276\\t1090\\t1\\t874795795</td>\n      <td>NaN</td>\n      <td>NaN</td>\n      <td>NaN</td>\n    </tr>\n    <tr>\n      <th>100001</th>\n      <td>13\\t225\\t2\\t882399156</td>\n      <td>NaN</td>\n      <td>NaN</td>\n      <td>NaN</td>\n    </tr>\n    <tr>\n      <th>100002</th>\n      <td>12\\t203\\t3\\t879959583</td>\n      <td>NaN</td>\n      <td>NaN</td>\n      <td>NaN</td>\n    </tr>\n  </tbody>\n</table>\n<p>100003 rows × 4 columns</p>\n</div>"
     },
     "execution_count": 34,
     "metadata": {},
     "output_type": "execute_result"
    }
   ],
   "source": [
    "# Building  a movie recommendation system\n",
    "\"\"\"\n",
    "1. Collaborative filtering: Collaborative filtering approaches build a model from the user’s past behavior (i.e. items purchased or searched by the user) as well as similar decisions made by other users.\n",
    "\n",
    "2. Content-based filtering: Content-based filtering approaches uses a series of discrete characteristics of an item in order to recommend additional items with similar properties\n",
    "\"\"\"\n",
    "\n",
    "# Load the data in tsv file\n",
    "names = ['user_id', 'item_id', 'rating', 'timestamp']\n",
    "tsv_path = 'files/movie_utils.tsv';\n",
    "movie_csv_path = 'files/movie_titles.csv';\n",
    "df_tsv = pd.read_csv(tsv_path, names=names)\n",
    "df_tsv"
   ],
   "metadata": {
    "collapsed": false
   }
  },
  {
   "cell_type": "code",
   "execution_count": 35,
   "outputs": [
    {
     "data": {
      "text/plain": "   user_id  item_id  rating  timestamp\n0        0       50       5  881250949\n1        0      172       5  881250949\n2        0      133       1  881250949\n3      196      242       3  881250949\n4      186      302       3  891717742\n5       22      377       1  878887116\n6      244       51       2  880606923\n7      166      346       1  886397596\n8      298      474       4  884182806\n9      115      265       2  881171488",
      "text/html": "<div>\n<style scoped>\n    .dataframe tbody tr th:only-of-type {\n        vertical-align: middle;\n    }\n\n    .dataframe tbody tr th {\n        vertical-align: top;\n    }\n\n    .dataframe thead th {\n        text-align: right;\n    }\n</style>\n<table border=\"1\" class=\"dataframe\">\n  <thead>\n    <tr style=\"text-align: right;\">\n      <th></th>\n      <th>user_id</th>\n      <th>item_id</th>\n      <th>rating</th>\n      <th>timestamp</th>\n    </tr>\n  </thead>\n  <tbody>\n    <tr>\n      <th>0</th>\n      <td>0</td>\n      <td>50</td>\n      <td>5</td>\n      <td>881250949</td>\n    </tr>\n    <tr>\n      <th>1</th>\n      <td>0</td>\n      <td>172</td>\n      <td>5</td>\n      <td>881250949</td>\n    </tr>\n    <tr>\n      <th>2</th>\n      <td>0</td>\n      <td>133</td>\n      <td>1</td>\n      <td>881250949</td>\n    </tr>\n    <tr>\n      <th>3</th>\n      <td>196</td>\n      <td>242</td>\n      <td>3</td>\n      <td>881250949</td>\n    </tr>\n    <tr>\n      <th>4</th>\n      <td>186</td>\n      <td>302</td>\n      <td>3</td>\n      <td>891717742</td>\n    </tr>\n    <tr>\n      <th>5</th>\n      <td>22</td>\n      <td>377</td>\n      <td>1</td>\n      <td>878887116</td>\n    </tr>\n    <tr>\n      <th>6</th>\n      <td>244</td>\n      <td>51</td>\n      <td>2</td>\n      <td>880606923</td>\n    </tr>\n    <tr>\n      <th>7</th>\n      <td>166</td>\n      <td>346</td>\n      <td>1</td>\n      <td>886397596</td>\n    </tr>\n    <tr>\n      <th>8</th>\n      <td>298</td>\n      <td>474</td>\n      <td>4</td>\n      <td>884182806</td>\n    </tr>\n    <tr>\n      <th>9</th>\n      <td>115</td>\n      <td>265</td>\n      <td>2</td>\n      <td>881171488</td>\n    </tr>\n  </tbody>\n</table>\n</div>"
     },
     "execution_count": 35,
     "metadata": {},
     "output_type": "execute_result"
    }
   ],
   "source": [
    "# Properly load the file with the sep option\n",
    "df_tsv = pd.read_csv(tsv_path, sep='\\t', header=None, names=names)\n",
    "df_tsv.head(10)"
   ],
   "metadata": {
    "collapsed": false
   }
  },
  {
   "cell_type": "code",
   "execution_count": 36,
   "outputs": [
    {
     "data": {
      "text/plain": "   item_id                                              title\n0        1                                   Toy Story (1995)\n1        2                                   GoldenEye (1995)\n2        3                                  Four Rooms (1995)\n3        4                                  Get Shorty (1995)\n4        5                                     Copycat (1995)\n5        6  Shanghai Triad (Yao a yao yao dao waipo qiao) ...\n6        7                              Twelve Monkeys (1995)\n7        8                                        Babe (1995)\n8        9                            Dead Man Walking (1995)\n9       10                                 Richard III (1995)",
      "text/html": "<div>\n<style scoped>\n    .dataframe tbody tr th:only-of-type {\n        vertical-align: middle;\n    }\n\n    .dataframe tbody tr th {\n        vertical-align: top;\n    }\n\n    .dataframe thead th {\n        text-align: right;\n    }\n</style>\n<table border=\"1\" class=\"dataframe\">\n  <thead>\n    <tr style=\"text-align: right;\">\n      <th></th>\n      <th>item_id</th>\n      <th>title</th>\n    </tr>\n  </thead>\n  <tbody>\n    <tr>\n      <th>0</th>\n      <td>1</td>\n      <td>Toy Story (1995)</td>\n    </tr>\n    <tr>\n      <th>1</th>\n      <td>2</td>\n      <td>GoldenEye (1995)</td>\n    </tr>\n    <tr>\n      <th>2</th>\n      <td>3</td>\n      <td>Four Rooms (1995)</td>\n    </tr>\n    <tr>\n      <th>3</th>\n      <td>4</td>\n      <td>Get Shorty (1995)</td>\n    </tr>\n    <tr>\n      <th>4</th>\n      <td>5</td>\n      <td>Copycat (1995)</td>\n    </tr>\n    <tr>\n      <th>5</th>\n      <td>6</td>\n      <td>Shanghai Triad (Yao a yao yao dao waipo qiao) ...</td>\n    </tr>\n    <tr>\n      <th>6</th>\n      <td>7</td>\n      <td>Twelve Monkeys (1995)</td>\n    </tr>\n    <tr>\n      <th>7</th>\n      <td>8</td>\n      <td>Babe (1995)</td>\n    </tr>\n    <tr>\n      <th>8</th>\n      <td>9</td>\n      <td>Dead Man Walking (1995)</td>\n    </tr>\n    <tr>\n      <th>9</th>\n      <td>10</td>\n      <td>Richard III (1995)</td>\n    </tr>\n  </tbody>\n</table>\n</div>"
     },
     "execution_count": 36,
     "metadata": {},
     "output_type": "execute_result"
    }
   ],
   "source": [
    "# Load the csv file and merge it with the previous\n",
    "df_csv = pd.read_csv(movie_csv_path)\n",
    "df_csv.head(10)"
   ],
   "metadata": {
    "collapsed": false
   }
  },
  {
   "cell_type": "code",
   "execution_count": 47,
   "outputs": [
    {
     "data": {
      "text/plain": "        user_id  item_id  rating  timestamp  \\\n0             0       50       5  881250949   \n1           290       50       5  880473582   \n2            79       50       4  891271545   \n3             2       50       5  888552084   \n4             8       50       5  879362124   \n...         ...      ...     ...        ...   \n99998       840     1674       4  891211682   \n99999       655     1640       3  888474646   \n100000      655     1637       3  888984255   \n100001      655     1630       3  887428735   \n100002      655     1641       3  887427810   \n\n                                                    title  \n0                                        Star Wars (1977)  \n1                                        Star Wars (1977)  \n2                                        Star Wars (1977)  \n3                                        Star Wars (1977)  \n4                                        Star Wars (1977)  \n...                                                   ...  \n99998                                   Mamma Roma (1962)  \n99999                              Eighth Day, The (1996)  \n100000                                  Girls Town (1996)  \n100001  Silence of the Palace, The (Saimt el Qusur) (1...  \n100002                                    Dadetown (1995)  \n\n[100003 rows x 5 columns]",
      "text/html": "<div>\n<style scoped>\n    .dataframe tbody tr th:only-of-type {\n        vertical-align: middle;\n    }\n\n    .dataframe tbody tr th {\n        vertical-align: top;\n    }\n\n    .dataframe thead th {\n        text-align: right;\n    }\n</style>\n<table border=\"1\" class=\"dataframe\">\n  <thead>\n    <tr style=\"text-align: right;\">\n      <th></th>\n      <th>user_id</th>\n      <th>item_id</th>\n      <th>rating</th>\n      <th>timestamp</th>\n      <th>title</th>\n    </tr>\n  </thead>\n  <tbody>\n    <tr>\n      <th>0</th>\n      <td>0</td>\n      <td>50</td>\n      <td>5</td>\n      <td>881250949</td>\n      <td>Star Wars (1977)</td>\n    </tr>\n    <tr>\n      <th>1</th>\n      <td>290</td>\n      <td>50</td>\n      <td>5</td>\n      <td>880473582</td>\n      <td>Star Wars (1977)</td>\n    </tr>\n    <tr>\n      <th>2</th>\n      <td>79</td>\n      <td>50</td>\n      <td>4</td>\n      <td>891271545</td>\n      <td>Star Wars (1977)</td>\n    </tr>\n    <tr>\n      <th>3</th>\n      <td>2</td>\n      <td>50</td>\n      <td>5</td>\n      <td>888552084</td>\n      <td>Star Wars (1977)</td>\n    </tr>\n    <tr>\n      <th>4</th>\n      <td>8</td>\n      <td>50</td>\n      <td>5</td>\n      <td>879362124</td>\n      <td>Star Wars (1977)</td>\n    </tr>\n    <tr>\n      <th>...</th>\n      <td>...</td>\n      <td>...</td>\n      <td>...</td>\n      <td>...</td>\n      <td>...</td>\n    </tr>\n    <tr>\n      <th>99998</th>\n      <td>840</td>\n      <td>1674</td>\n      <td>4</td>\n      <td>891211682</td>\n      <td>Mamma Roma (1962)</td>\n    </tr>\n    <tr>\n      <th>99999</th>\n      <td>655</td>\n      <td>1640</td>\n      <td>3</td>\n      <td>888474646</td>\n      <td>Eighth Day, The (1996)</td>\n    </tr>\n    <tr>\n      <th>100000</th>\n      <td>655</td>\n      <td>1637</td>\n      <td>3</td>\n      <td>888984255</td>\n      <td>Girls Town (1996)</td>\n    </tr>\n    <tr>\n      <th>100001</th>\n      <td>655</td>\n      <td>1630</td>\n      <td>3</td>\n      <td>887428735</td>\n      <td>Silence of the Palace, The (Saimt el Qusur) (1...</td>\n    </tr>\n    <tr>\n      <th>100002</th>\n      <td>655</td>\n      <td>1641</td>\n      <td>3</td>\n      <td>887427810</td>\n      <td>Dadetown (1995)</td>\n    </tr>\n  </tbody>\n</table>\n<p>100003 rows × 5 columns</p>\n</div>"
     },
     "execution_count": 47,
     "metadata": {},
     "output_type": "execute_result"
    }
   ],
   "source": [
    "# Merge the two data into one table, much like table join\n",
    "data = pd.merge(df_tsv, df_csv, on='item_id')\n",
    "data"
   ],
   "metadata": {
    "collapsed": false
   }
  },
  {
   "cell_type": "code",
   "execution_count": 54,
   "outputs": [
    {
     "data": {
      "text/plain": "title\nThey Made Me a Criminal (1939)                       5.0\nMarlene Dietrich: Shadow and Light (1996)            5.0\nSaint of Fort Washington, The (1993)                 5.0\nSomeone Else's America (1995)                        5.0\nStar Kid (1997)                                      5.0\nGreat Day in Harlem, A (1994)                        5.0\nAiqing wansui (1994)                                 5.0\nSanta with Muscles (1996)                            5.0\nPrefontaine (1997)                                   5.0\nEntertaining Angels: The Dorothy Day Story (1996)    5.0\nName: rating, dtype: float64"
     },
     "execution_count": 54,
     "metadata": {},
     "output_type": "execute_result"
    }
   ],
   "source": [
    "# Calculate mean rating of all movies and group them by the movie title\n",
    "# Sort values in descending orders afterwards, then load the top 10 rows\n",
    "data.groupby('title')['rating'].mean().sort_values(ascending=False).head(10)"
   ],
   "metadata": {
    "collapsed": false
   }
  },
  {
   "cell_type": "code",
   "execution_count": 127,
   "outputs": [
    {
     "data": {
      "text/plain": "                                               rating  num_of_ratings\ntitle                                                                \n'Til There Was You (1997)                    2.333333               9\n1-900 (1994)                                 2.600000               5\n101 Dalmatians (1996)                        2.908257             109\n12 Angry Men (1957)                          4.344000             125\n187 (1997)                                   3.024390              41\n2 Days in the Valley (1996)                  3.225806              93\n20,000 Leagues Under the Sea (1954)          3.500000              72\n2001: A Space Odyssey (1968)                 3.969112             259\n3 Ninjas: High Noon At Mega Mountain (1998)  1.000000               5\n39 Steps, The (1935)                         4.050847              59",
      "text/html": "<div>\n<style scoped>\n    .dataframe tbody tr th:only-of-type {\n        vertical-align: middle;\n    }\n\n    .dataframe tbody tr th {\n        vertical-align: top;\n    }\n\n    .dataframe thead th {\n        text-align: right;\n    }\n</style>\n<table border=\"1\" class=\"dataframe\">\n  <thead>\n    <tr style=\"text-align: right;\">\n      <th></th>\n      <th>rating</th>\n      <th>num_of_ratings</th>\n    </tr>\n    <tr>\n      <th>title</th>\n      <th></th>\n      <th></th>\n    </tr>\n  </thead>\n  <tbody>\n    <tr>\n      <th>'Til There Was You (1997)</th>\n      <td>2.333333</td>\n      <td>9</td>\n    </tr>\n    <tr>\n      <th>1-900 (1994)</th>\n      <td>2.600000</td>\n      <td>5</td>\n    </tr>\n    <tr>\n      <th>101 Dalmatians (1996)</th>\n      <td>2.908257</td>\n      <td>109</td>\n    </tr>\n    <tr>\n      <th>12 Angry Men (1957)</th>\n      <td>4.344000</td>\n      <td>125</td>\n    </tr>\n    <tr>\n      <th>187 (1997)</th>\n      <td>3.024390</td>\n      <td>41</td>\n    </tr>\n    <tr>\n      <th>2 Days in the Valley (1996)</th>\n      <td>3.225806</td>\n      <td>93</td>\n    </tr>\n    <tr>\n      <th>20,000 Leagues Under the Sea (1954)</th>\n      <td>3.500000</td>\n      <td>72</td>\n    </tr>\n    <tr>\n      <th>2001: A Space Odyssey (1968)</th>\n      <td>3.969112</td>\n      <td>259</td>\n    </tr>\n    <tr>\n      <th>3 Ninjas: High Noon At Mega Mountain (1998)</th>\n      <td>1.000000</td>\n      <td>5</td>\n    </tr>\n    <tr>\n      <th>39 Steps, The (1935)</th>\n      <td>4.050847</td>\n      <td>59</td>\n    </tr>\n  </tbody>\n</table>\n</div>"
     },
     "execution_count": 127,
     "metadata": {},
     "output_type": "execute_result"
    }
   ],
   "source": [
    "# Create dataframe with rating, count values, and store them as movie ratings\n",
    "# Get the total counts of each rating group by the title column\n",
    "ratings = pd.DataFrame(data.groupby('title')['rating'].mean())\n",
    "ratings['num_of_ratings'] = pd.DataFrame(data.groupby('title')['rating'].count())\n",
    "ratings.head(10)"
   ],
   "metadata": {
    "collapsed": false
   }
  },
  {
   "cell_type": "code",
   "execution_count": 128,
   "outputs": [],
   "source": [
    "from matplotlib import pyplot as plt\n",
    "import seaborn as sns\n",
    "\n",
    "sns.set_style('white')\n",
    "\n",
    "# A magic command that allow plots to be displayed directly in the notebook\n",
    "%matplotlib inline"
   ],
   "metadata": {
    "collapsed": false
   }
  },
  {
   "cell_type": "code",
   "execution_count": 129,
   "outputs": [
    {
     "data": {
      "text/plain": "<AxesSubplot: >"
     },
     "execution_count": 129,
     "metadata": {},
     "output_type": "execute_result"
    },
    {
     "data": {
      "text/plain": "<Figure size 1000x400 with 1 Axes>",
      "image/png": "[encoded data removed]"
     },
     "metadata": {},
     "output_type": "display_data"
    }
   ],
   "source": [
    "# Create a graph using te `num_of_ratings` columns\n",
    "plt.figure(figsize=(10, 4))\n",
    "\n",
    "ratings['num_of_ratings'].hist(bins=70)"
   ],
   "metadata": {
    "collapsed": false
   }
  },
  {
   "cell_type": "code",
   "execution_count": 130,
   "outputs": [
    {
     "data": {
      "text/plain": "<AxesSubplot: >"
     },
     "execution_count": 130,
     "metadata": {},
     "output_type": "execute_result"
    },
    {
     "data": {
      "text/plain": "<Figure size 1000x400 with 1 Axes>",
      "image/png": "[encoded data removed]"
     },
     "metadata": {},
     "output_type": "display_data"
    }
   ],
   "source": [
    "# A graph using the ratings column\n",
    "plt.figure(figsize=(10, 4))\n",
    "\n",
    "ratings['rating'].hist(bins=70)"
   ],
   "metadata": {
    "collapsed": false
   }
  },
  {
   "cell_type": "code",
   "execution_count": 131,
   "outputs": [
    {
     "data": {
      "text/plain": "                                 rating  num_of_ratings\ntitle                                                  \nStar Wars (1977)               4.359589             584\nContact (1997)                 3.803536             509\nFargo (1996)                   4.155512             508\nReturn of the Jedi (1983)      4.007890             507\nLiar Liar (1997)               3.156701             485\nEnglish Patient, The (1996)    3.656965             481\nScream (1996)                  3.441423             478\nToy Story (1995)               3.878319             452\nAir Force One (1997)           3.631090             431\nIndependence Day (ID4) (1996)  3.438228             429",
      "text/html": "<div>\n<style scoped>\n    .dataframe tbody tr th:only-of-type {\n        vertical-align: middle;\n    }\n\n    .dataframe tbody tr th {\n        vertical-align: top;\n    }\n\n    .dataframe thead th {\n        text-align: right;\n    }\n</style>\n<table border=\"1\" class=\"dataframe\">\n  <thead>\n    <tr style=\"text-align: right;\">\n      <th></th>\n      <th>rating</th>\n      <th>num_of_ratings</th>\n    </tr>\n    <tr>\n      <th>title</th>\n      <th></th>\n      <th></th>\n    </tr>\n  </thead>\n  <tbody>\n    <tr>\n      <th>Star Wars (1977)</th>\n      <td>4.359589</td>\n      <td>584</td>\n    </tr>\n    <tr>\n      <th>Contact (1997)</th>\n      <td>3.803536</td>\n      <td>509</td>\n    </tr>\n    <tr>\n      <th>Fargo (1996)</th>\n      <td>4.155512</td>\n      <td>508</td>\n    </tr>\n    <tr>\n      <th>Return of the Jedi (1983)</th>\n      <td>4.007890</td>\n      <td>507</td>\n    </tr>\n    <tr>\n      <th>Liar Liar (1997)</th>\n      <td>3.156701</td>\n      <td>485</td>\n    </tr>\n    <tr>\n      <th>English Patient, The (1996)</th>\n      <td>3.656965</td>\n      <td>481</td>\n    </tr>\n    <tr>\n      <th>Scream (1996)</th>\n      <td>3.441423</td>\n      <td>478</td>\n    </tr>\n    <tr>\n      <th>Toy Story (1995)</th>\n      <td>3.878319</td>\n      <td>452</td>\n    </tr>\n    <tr>\n      <th>Air Force One (1997)</th>\n      <td>3.631090</td>\n      <td>431</td>\n    </tr>\n    <tr>\n      <th>Independence Day (ID4) (1996)</th>\n      <td>3.438228</td>\n      <td>429</td>\n    </tr>\n  </tbody>\n</table>\n</div>"
     },
     "execution_count": 131,
     "metadata": {},
     "output_type": "execute_result"
    }
   ],
   "source": [
    "# Sort the values according to the number of rating columns\n",
    "moviemat = data.pivot_table(index = 'user_id',\n",
    "                            columns='title', values='rating')\n",
    "ratings.sort_values('num_of_ratings', ascending=False).head(10)"
   ],
   "metadata": {
    "collapsed": false
   }
  },
  {
   "cell_type": "code",
   "execution_count": 132,
   "outputs": [
    {
     "data": {
      "text/plain": "user_id\n0    5.0\n1    5.0\n2    5.0\n3    NaN\n4    5.0\n5    4.0\n6    4.0\n7    5.0\n8    5.0\n9    5.0\nName: Star Wars (1977), dtype: float64"
     },
     "execution_count": 132,
     "metadata": {},
     "output_type": "execute_result"
    }
   ],
   "source": [
    "# Analyzing correlations with similar movies\n",
    "\n",
    "star_wars_ratings = moviemat['Star Wars (1977)']\n",
    "liar_liar_ratings = moviemat['Liar Liar (1997)']\n",
    "\n",
    "star_wars_ratings.head(10)"
   ],
   "metadata": {
    "collapsed": false
   }
  },
  {
   "cell_type": "code",
   "execution_count": 133,
   "outputs": [
    {
     "data": {
      "text/plain": "user_id\n0    NaN\n1    NaN\n2    1.0\n3    2.0\n4    5.0\n5    NaN\n6    2.0\n7    1.0\n8    3.0\n9    4.0\nName: Liar Liar (1997), dtype: float64"
     },
     "execution_count": 133,
     "metadata": {},
     "output_type": "execute_result"
    }
   ],
   "source": [
    "liar_liar_ratings.head(10)"
   ],
   "metadata": {
    "collapsed": false
   }
  },
  {
   "cell_type": "code",
   "execution_count": 134,
   "outputs": [
    {
     "name": "stderr",
     "output_type": "stream",
     "text": [
      "C:\\Python310\\lib\\site-packages\\numpy\\lib\\function_base.py:2845: RuntimeWarning: Degrees of freedom <= 0 for slice\n",
      "  c = cov(x, y, rowvar, dtype=dtype)\n",
      "C:\\Python310\\lib\\site-packages\\numpy\\lib\\function_base.py:2704: RuntimeWarning: divide by zero encountered in divide\n",
      "  c *= np.true_divide(1, fact)\n",
      "C:\\Python310\\lib\\site-packages\\numpy\\lib\\function_base.py:2845: RuntimeWarning: Degrees of freedom <= 0 for slice\n",
      "  c = cov(x, y, rowvar, dtype=dtype)\n",
      "C:\\Python310\\lib\\site-packages\\numpy\\lib\\function_base.py:2704: RuntimeWarning: divide by zero encountered in divide\n",
      "  c *= np.true_divide(1, fact)\n"
     ]
    }
   ],
   "source": [
    "# Analyze corrections with similar movies\n",
    "movies_similar_to_starwars = moviemat.corrwith(star_wars_ratings)\n",
    "movies_similar_to_liarliar = moviemat.corrwith(liar_liar_ratings)\n",
    "\n",
    "corr_starwars = pd.DataFrame(movies_similar_to_starwars,\n",
    "                             columns=['Correlation'])\n",
    "corr_starwars.dropna(inplace=True)"
   ],
   "metadata": {
    "collapsed": false
   }
  },
  {
   "cell_type": "code",
   "execution_count": 135,
   "outputs": [
    {
     "data": {
      "text/plain": "                                     Correlation\ntitle                                           \n'Til There Was You (1997)               0.872872\n1-900 (1994)                           -0.645497\n101 Dalmatians (1996)                   0.211132\n12 Angry Men (1957)                     0.184289\n187 (1997)                              0.027398\n2 Days in the Valley (1996)             0.066654\n20,000 Leagues Under the Sea (1954)     0.289768\n2001: A Space Odyssey (1968)            0.230884\n39 Steps, The (1935)                    0.106453\n8 1/2 (1963)                           -0.142977",
      "text/html": "<div>\n<style scoped>\n    .dataframe tbody tr th:only-of-type {\n        vertical-align: middle;\n    }\n\n    .dataframe tbody tr th {\n        vertical-align: top;\n    }\n\n    .dataframe thead th {\n        text-align: right;\n    }\n</style>\n<table border=\"1\" class=\"dataframe\">\n  <thead>\n    <tr style=\"text-align: right;\">\n      <th></th>\n      <th>Correlation</th>\n    </tr>\n    <tr>\n      <th>title</th>\n      <th></th>\n    </tr>\n  </thead>\n  <tbody>\n    <tr>\n      <th>'Til There Was You (1997)</th>\n      <td>0.872872</td>\n    </tr>\n    <tr>\n      <th>1-900 (1994)</th>\n      <td>-0.645497</td>\n    </tr>\n    <tr>\n      <th>101 Dalmatians (1996)</th>\n      <td>0.211132</td>\n    </tr>\n    <tr>\n      <th>12 Angry Men (1957)</th>\n      <td>0.184289</td>\n    </tr>\n    <tr>\n      <th>187 (1997)</th>\n      <td>0.027398</td>\n    </tr>\n    <tr>\n      <th>2 Days in the Valley (1996)</th>\n      <td>0.066654</td>\n    </tr>\n    <tr>\n      <th>20,000 Leagues Under the Sea (1954)</th>\n      <td>0.289768</td>\n    </tr>\n    <tr>\n      <th>2001: A Space Odyssey (1968)</th>\n      <td>0.230884</td>\n    </tr>\n    <tr>\n      <th>39 Steps, The (1935)</th>\n      <td>0.106453</td>\n    </tr>\n    <tr>\n      <th>8 1/2 (1963)</th>\n      <td>-0.142977</td>\n    </tr>\n  </tbody>\n</table>\n</div>"
     },
     "execution_count": 135,
     "metadata": {},
     "output_type": "execute_result"
    }
   ],
   "source": [
    "corr_starwars.head(10)"
   ],
   "metadata": {
    "collapsed": false
   }
  },
  {
   "cell_type": "code",
   "execution_count": 136,
   "outputs": [
    {
     "data": {
      "text/plain": "                                                    Correlation  \\\ntitle                                                             \nStar Wars (1977)                                       1.000000   \nEmpire Strikes Back, The (1980)                        0.748353   \nReturn of the Jedi (1983)                              0.672556   \nRaiders of the Lost Ark (1981)                         0.536117   \nAustin Powers: International Man of Mystery (1997)     0.377433   \n\n                                                    num_of_ratings  \ntitle                                                               \nStar Wars (1977)                                               584  \nEmpire Strikes Back, The (1980)                                368  \nReturn of the Jedi (1983)                                      507  \nRaiders of the Lost Ark (1981)                                 420  \nAustin Powers: International Man of Mystery (1997)             130  ",
      "text/html": "<div>\n<style scoped>\n    .dataframe tbody tr th:only-of-type {\n        vertical-align: middle;\n    }\n\n    .dataframe tbody tr th {\n        vertical-align: top;\n    }\n\n    .dataframe thead th {\n        text-align: right;\n    }\n</style>\n<table border=\"1\" class=\"dataframe\">\n  <thead>\n    <tr style=\"text-align: right;\">\n      <th></th>\n      <th>Correlation</th>\n      <th>num_of_ratings</th>\n    </tr>\n    <tr>\n      <th>title</th>\n      <th></th>\n      <th></th>\n    </tr>\n  </thead>\n  <tbody>\n    <tr>\n      <th>Star Wars (1977)</th>\n      <td>1.000000</td>\n      <td>584</td>\n    </tr>\n    <tr>\n      <th>Empire Strikes Back, The (1980)</th>\n      <td>0.748353</td>\n      <td>368</td>\n    </tr>\n    <tr>\n      <th>Return of the Jedi (1983)</th>\n      <td>0.672556</td>\n      <td>507</td>\n    </tr>\n    <tr>\n      <th>Raiders of the Lost Ark (1981)</th>\n      <td>0.536117</td>\n      <td>420</td>\n    </tr>\n    <tr>\n      <th>Austin Powers: International Man of Mystery (1997)</th>\n      <td>0.377433</td>\n      <td>130</td>\n    </tr>\n  </tbody>\n</table>\n</div>"
     },
     "execution_count": 136,
     "metadata": {},
     "output_type": "execute_result"
    }
   ],
   "source": [
    "# Recommend movies similar to star wars\n",
    "corr_starwars.sort_values('Correlation',ascending=False).head(10)\n",
    "corr_starwars = corr_starwars.join(ratings['num_of_ratings'],\n",
    "                                   rsuffix='_right', lsuffix='_left')\n",
    "corr_starwars.head(10)\n",
    "\n",
    "corr_starwars[corr_starwars['num_of_ratings'] > 100].sort_values('Correlation', ascending=False).head()"
   ],
   "metadata": {
    "collapsed": false
   }
  },
  {
   "cell_type": "code",
   "execution_count": 137,
   "outputs": [
    {
     "data": {
      "text/plain": "                                             Correlation\ntitle                                                   \n'Til There Was You (1997)                       0.118913\n1-900 (1994)                                         NaN\n101 Dalmatians (1996)                           0.469765\n12 Angry Men (1957)                             0.066272\n187 (1997)                                      0.175145\n2 Days in the Valley (1996)                     0.040739\n20,000 Leagues Under the Sea (1954)            -0.027932\n2001: A Space Odyssey (1968)                   -0.057864\n3 Ninjas: High Noon At Mega Mountain (1998)          NaN\n39 Steps, The (1935)                            0.400918",
      "text/html": "<div>\n<style scoped>\n    .dataframe tbody tr th:only-of-type {\n        vertical-align: middle;\n    }\n\n    .dataframe tbody tr th {\n        vertical-align: top;\n    }\n\n    .dataframe thead th {\n        text-align: right;\n    }\n</style>\n<table border=\"1\" class=\"dataframe\">\n  <thead>\n    <tr style=\"text-align: right;\">\n      <th></th>\n      <th>Correlation</th>\n    </tr>\n    <tr>\n      <th>title</th>\n      <th></th>\n    </tr>\n  </thead>\n  <tbody>\n    <tr>\n      <th>'Til There Was You (1997)</th>\n      <td>0.118913</td>\n    </tr>\n    <tr>\n      <th>1-900 (1994)</th>\n      <td>NaN</td>\n    </tr>\n    <tr>\n      <th>101 Dalmatians (1996)</th>\n      <td>0.469765</td>\n    </tr>\n    <tr>\n      <th>12 Angry Men (1957)</th>\n      <td>0.066272</td>\n    </tr>\n    <tr>\n      <th>187 (1997)</th>\n      <td>0.175145</td>\n    </tr>\n    <tr>\n      <th>2 Days in the Valley (1996)</th>\n      <td>0.040739</td>\n    </tr>\n    <tr>\n      <th>20,000 Leagues Under the Sea (1954)</th>\n      <td>-0.027932</td>\n    </tr>\n    <tr>\n      <th>2001: A Space Odyssey (1968)</th>\n      <td>-0.057864</td>\n    </tr>\n    <tr>\n      <th>3 Ninjas: High Noon At Mega Mountain (1998)</th>\n      <td>NaN</td>\n    </tr>\n    <tr>\n      <th>39 Steps, The (1935)</th>\n      <td>0.400918</td>\n    </tr>\n  </tbody>\n</table>\n</div>"
     },
     "execution_count": 137,
     "metadata": {},
     "output_type": "execute_result"
    }
   ],
   "source": [
    "# Recommend movies similar to liar liar\n",
    "corr_liarliar = pd.DataFrame(\n",
    "    movies_similar_to_liarliar, columns=['Correlation'])\n",
    "corr_liarliar.head(10)"
   ],
   "metadata": {
    "collapsed": false
   }
  },
  {
   "cell_type": "code",
   "execution_count": 138,
   "outputs": [
    {
     "data": {
      "text/plain": "                                       Correlation\ntitle                                             \n'Til There Was You (1997)                 0.118913\n101 Dalmatians (1996)                     0.469765\n12 Angry Men (1957)                       0.066272\n187 (1997)                                0.175145\n2 Days in the Valley (1996)               0.040739\n...                                            ...\nYoung Guns (1988)                         0.410988\nYoung Guns II (1990)                      0.352174\nYoung Poisoner's Handbook, The (1995)     0.445016\nZeus and Roxanne (1997)                  -0.500000\nunknown                                   0.870388\n\n[1375 rows x 1 columns]",
      "text/html": "<div>\n<style scoped>\n    .dataframe tbody tr th:only-of-type {\n        vertical-align: middle;\n    }\n\n    .dataframe tbody tr th {\n        vertical-align: top;\n    }\n\n    .dataframe thead th {\n        text-align: right;\n    }\n</style>\n<table border=\"1\" class=\"dataframe\">\n  <thead>\n    <tr style=\"text-align: right;\">\n      <th></th>\n      <th>Correlation</th>\n    </tr>\n    <tr>\n      <th>title</th>\n      <th></th>\n    </tr>\n  </thead>\n  <tbody>\n    <tr>\n      <th>'Til There Was You (1997)</th>\n      <td>0.118913</td>\n    </tr>\n    <tr>\n      <th>101 Dalmatians (1996)</th>\n      <td>0.469765</td>\n    </tr>\n    <tr>\n      <th>12 Angry Men (1957)</th>\n      <td>0.066272</td>\n    </tr>\n    <tr>\n      <th>187 (1997)</th>\n      <td>0.175145</td>\n    </tr>\n    <tr>\n      <th>2 Days in the Valley (1996)</th>\n      <td>0.040739</td>\n    </tr>\n    <tr>\n      <th>...</th>\n      <td>...</td>\n    </tr>\n    <tr>\n      <th>Young Guns (1988)</th>\n      <td>0.410988</td>\n    </tr>\n    <tr>\n      <th>Young Guns II (1990)</th>\n      <td>0.352174</td>\n    </tr>\n    <tr>\n      <th>Young Poisoner's Handbook, The (1995)</th>\n      <td>0.445016</td>\n    </tr>\n    <tr>\n      <th>Zeus and Roxanne (1997)</th>\n      <td>-0.500000</td>\n    </tr>\n    <tr>\n      <th>unknown</th>\n      <td>0.870388</td>\n    </tr>\n  </tbody>\n</table>\n<p>1375 rows × 1 columns</p>\n</div>"
     },
     "execution_count": 138,
     "metadata": {},
     "output_type": "execute_result"
    }
   ],
   "source": [
    "# drop unwanted values\n",
    "corr_liarliar.dropna(inplace=True)\n",
    "corr_liarliar"
   ],
   "metadata": {
    "collapsed": false
   }
  },
  {
   "cell_type": "code",
   "execution_count": 139,
   "outputs": [
    {
     "data": {
      "text/plain": "                       Correlation  num_of_ratings\ntitle                                             \nLiar Liar (1997)          1.000000             485\nBatman Forever (1995)     0.516968             114\nMask, The (1994)          0.484650             129\nDown Periscope (1996)     0.472681             101\nCon Air (1997)            0.469828             137",
      "text/html": "<div>\n<style scoped>\n    .dataframe tbody tr th:only-of-type {\n        vertical-align: middle;\n    }\n\n    .dataframe tbody tr th {\n        vertical-align: top;\n    }\n\n    .dataframe thead th {\n        text-align: right;\n    }\n</style>\n<table border=\"1\" class=\"dataframe\">\n  <thead>\n    <tr style=\"text-align: right;\">\n      <th></th>\n      <th>Correlation</th>\n      <th>num_of_ratings</th>\n    </tr>\n    <tr>\n      <th>title</th>\n      <th></th>\n      <th></th>\n    </tr>\n  </thead>\n  <tbody>\n    <tr>\n      <th>Liar Liar (1997)</th>\n      <td>1.000000</td>\n      <td>485</td>\n    </tr>\n    <tr>\n      <th>Batman Forever (1995)</th>\n      <td>0.516968</td>\n      <td>114</td>\n    </tr>\n    <tr>\n      <th>Mask, The (1994)</th>\n      <td>0.484650</td>\n      <td>129</td>\n    </tr>\n    <tr>\n      <th>Down Periscope (1996)</th>\n      <td>0.472681</td>\n      <td>101</td>\n    </tr>\n    <tr>\n      <th>Con Air (1997)</th>\n      <td>0.469828</td>\n      <td>137</td>\n    </tr>\n  </tbody>\n</table>\n</div>"
     },
     "execution_count": 139,
     "metadata": {},
     "output_type": "execute_result"
    }
   ],
   "source": [
    "corr_liarliar = corr_liarliar.join(ratings['num_of_ratings'],\n",
    "                                   rsuffix='_right', lsuffix='_left')\n",
    "\n",
    "corr_liarliar[corr_liarliar.num_of_ratings > 100].sort_values('Correlation', ascending=False).head()"
   ],
   "metadata": {
    "collapsed": false
   }
  },
  {
   "cell_type": "code",
   "execution_count": null,
   "outputs": [],
   "source": [],
   "metadata": {
    "collapsed": false,
    "pycharm": {
     "is_executing": true
    }
   }
  }
 ],
 "metadata": {
  "kernelspec": {
   "display_name": "Python 3",
   "language": "python",
   "name": "python3"
  },
  "language_info": {
   "codemirror_mode": {
    "name": "ipython",
    "version": 2
   },
   "file_extension": ".py",
   "mimetype": "text/x-python",
   "name": "python",
   "nbconvert_exporter": "python",
   "pygments_lexer": "ipython2",
   "version": "2.7.6"
  }
 },
 "nbformat": 4,
 "nbformat_minor": 0
}
