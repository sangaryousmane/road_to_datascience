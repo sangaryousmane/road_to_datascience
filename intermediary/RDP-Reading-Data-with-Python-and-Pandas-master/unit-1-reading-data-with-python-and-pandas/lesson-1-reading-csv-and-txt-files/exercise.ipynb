{
 "cells": [
  {
   "cell_type": "code",
   "execution_count": 28,
   "metadata": {
    "collapsed": true
   },
   "outputs": [
    {
     "data": {
      "text/plain": "2/4/17 0:00    364\n1099.169125    364\ndtype: int64"
     },
     "execution_count": 28,
     "metadata": {},
     "output_type": "execute_result"
    }
   ],
   "source": [
    "import pandas as pd\n",
    "import numpy as np\n",
    "# Input pandas and read the btc file using\n",
    "\n",
    "from pandas import read_csv\n",
    "\n",
    "df = read_csv('files/btc-market-price.csv')\n",
    "df.count()"
   ]
  },
  {
   "cell_type": "code",
   "execution_count": 6,
   "outputs": [
    {
     "data": {
      "text/plain": "   2/4/17 0:00 1099.169125\n0  3/4/17 0:00    1141.813\n1  4/4/17 0:00           ?",
      "text/html": "<div>\n<style scoped>\n    .dataframe tbody tr th:only-of-type {\n        vertical-align: middle;\n    }\n\n    .dataframe tbody tr th {\n        vertical-align: top;\n    }\n\n    .dataframe thead th {\n        text-align: right;\n    }\n</style>\n<table border=\"1\" class=\"dataframe\">\n  <thead>\n    <tr style=\"text-align: right;\">\n      <th></th>\n      <th>2/4/17 0:00</th>\n      <th>1099.169125</th>\n    </tr>\n  </thead>\n  <tbody>\n    <tr>\n      <th>0</th>\n      <td>3/4/17 0:00</td>\n      <td>1141.813</td>\n    </tr>\n    <tr>\n      <th>1</th>\n      <td>4/4/17 0:00</td>\n      <td>?</td>\n    </tr>\n  </tbody>\n</table>\n</div>"
     },
     "execution_count": 6,
     "metadata": {},
     "output_type": "execute_result"
    }
   ],
   "source": [
    "# show the first 10 rows\n",
    "df.head(2)"
   ],
   "metadata": {
    "collapsed": false
   }
  },
  {
   "cell_type": "code",
   "execution_count": 7,
   "outputs": [
    {
     "data": {
      "text/plain": "                0            1\n0     2/4/17 0:00  1099.169125\n1     3/4/17 0:00     1141.813\n2     4/4/17 0:00            ?\n3     5/4/17 0:00  1133.079314\n4     6/4/17 0:00            -\n..            ...          ...\n360  28/3/18 0:00      7960.38\n361  29/3/18 0:00      7172.28\n362  30/3/18 0:00  6882.531667\n363  31/3/18 0:00      6935.48\n364   1/4/18 0:00     6794.105\n\n[365 rows x 2 columns]",
      "text/html": "<div>\n<style scoped>\n    .dataframe tbody tr th:only-of-type {\n        vertical-align: middle;\n    }\n\n    .dataframe tbody tr th {\n        vertical-align: top;\n    }\n\n    .dataframe thead th {\n        text-align: right;\n    }\n</style>\n<table border=\"1\" class=\"dataframe\">\n  <thead>\n    <tr style=\"text-align: right;\">\n      <th></th>\n      <th>0</th>\n      <th>1</th>\n    </tr>\n  </thead>\n  <tbody>\n    <tr>\n      <th>0</th>\n      <td>2/4/17 0:00</td>\n      <td>1099.169125</td>\n    </tr>\n    <tr>\n      <th>1</th>\n      <td>3/4/17 0:00</td>\n      <td>1141.813</td>\n    </tr>\n    <tr>\n      <th>2</th>\n      <td>4/4/17 0:00</td>\n      <td>?</td>\n    </tr>\n    <tr>\n      <th>3</th>\n      <td>5/4/17 0:00</td>\n      <td>1133.079314</td>\n    </tr>\n    <tr>\n      <th>4</th>\n      <td>6/4/17 0:00</td>\n      <td>-</td>\n    </tr>\n    <tr>\n      <th>...</th>\n      <td>...</td>\n      <td>...</td>\n    </tr>\n    <tr>\n      <th>360</th>\n      <td>28/3/18 0:00</td>\n      <td>7960.38</td>\n    </tr>\n    <tr>\n      <th>361</th>\n      <td>29/3/18 0:00</td>\n      <td>7172.28</td>\n    </tr>\n    <tr>\n      <th>362</th>\n      <td>30/3/18 0:00</td>\n      <td>6882.531667</td>\n    </tr>\n    <tr>\n      <th>363</th>\n      <td>31/3/18 0:00</td>\n      <td>6935.48</td>\n    </tr>\n    <tr>\n      <th>364</th>\n      <td>1/4/18 0:00</td>\n      <td>6794.105</td>\n    </tr>\n  </tbody>\n</table>\n<p>365 rows × 2 columns</p>\n</div>"
     },
     "execution_count": 7,
     "metadata": {},
     "output_type": "execute_result"
    }
   ],
   "source": [
    "# Pandas overwrite the headers, fix that to normal\n",
    "fixed = read_csv('files/btc-market-price.csv', header=None)\n",
    "fixed"
   ],
   "metadata": {
    "collapsed": false
   }
  },
  {
   "cell_type": "code",
   "execution_count": 8,
   "outputs": [
    {
     "data": {
      "text/plain": "                0            1\n0     2/4/17 0:00  1099.169125\n1     3/4/17 0:00  1141.813000\n2     4/4/17 0:00          NaN\n3     5/4/17 0:00  1133.079314\n4     6/4/17 0:00          NaN\n..            ...          ...\n360  28/3/18 0:00  7960.380000\n361  29/3/18 0:00  7172.280000\n362  30/3/18 0:00  6882.531667\n363  31/3/18 0:00  6935.480000\n364   1/4/18 0:00  6794.105000\n\n[365 rows x 2 columns]",
      "text/html": "<div>\n<style scoped>\n    .dataframe tbody tr th:only-of-type {\n        vertical-align: middle;\n    }\n\n    .dataframe tbody tr th {\n        vertical-align: top;\n    }\n\n    .dataframe thead th {\n        text-align: right;\n    }\n</style>\n<table border=\"1\" class=\"dataframe\">\n  <thead>\n    <tr style=\"text-align: right;\">\n      <th></th>\n      <th>0</th>\n      <th>1</th>\n    </tr>\n  </thead>\n  <tbody>\n    <tr>\n      <th>0</th>\n      <td>2/4/17 0:00</td>\n      <td>1099.169125</td>\n    </tr>\n    <tr>\n      <th>1</th>\n      <td>3/4/17 0:00</td>\n      <td>1141.813000</td>\n    </tr>\n    <tr>\n      <th>2</th>\n      <td>4/4/17 0:00</td>\n      <td>NaN</td>\n    </tr>\n    <tr>\n      <th>3</th>\n      <td>5/4/17 0:00</td>\n      <td>1133.079314</td>\n    </tr>\n    <tr>\n      <th>4</th>\n      <td>6/4/17 0:00</td>\n      <td>NaN</td>\n    </tr>\n    <tr>\n      <th>...</th>\n      <td>...</td>\n      <td>...</td>\n    </tr>\n    <tr>\n      <th>360</th>\n      <td>28/3/18 0:00</td>\n      <td>7960.380000</td>\n    </tr>\n    <tr>\n      <th>361</th>\n      <td>29/3/18 0:00</td>\n      <td>7172.280000</td>\n    </tr>\n    <tr>\n      <th>362</th>\n      <td>30/3/18 0:00</td>\n      <td>6882.531667</td>\n    </tr>\n    <tr>\n      <th>363</th>\n      <td>31/3/18 0:00</td>\n      <td>6935.480000</td>\n    </tr>\n    <tr>\n      <th>364</th>\n      <td>1/4/18 0:00</td>\n      <td>6794.105000</td>\n    </tr>\n  </tbody>\n</table>\n<p>365 rows × 2 columns</p>\n</div>"
     },
     "execution_count": 8,
     "metadata": {},
     "output_type": "execute_result"
    }
   ],
   "source": [
    "# Treat missing values as not a number(nan)\n",
    "fixed = read_csv('files/btc-market-price.csv',\n",
    "         header=None, na_values=['?', '-', ''])\n",
    "fixed"
   ],
   "metadata": {
    "collapsed": false
   }
  },
  {
   "cell_type": "code",
   "execution_count": 9,
   "outputs": [
    {
     "data": {
      "text/plain": "      Timestamp       Prices\n0   2/4/17 0:00  1099.169125\n1   3/4/17 0:00  1141.813000\n2   4/4/17 0:00          NaN\n3   5/4/17 0:00  1133.079314\n4   6/4/17 0:00          NaN\n5   7/4/17 0:00          NaN\n6   8/4/17 0:00  1181.149838\n7   9/4/17 0:00  1208.800500\n8  10/4/17 0:00  1207.744875\n9  11/4/17 0:00  1226.617038",
      "text/html": "<div>\n<style scoped>\n    .dataframe tbody tr th:only-of-type {\n        vertical-align: middle;\n    }\n\n    .dataframe tbody tr th {\n        vertical-align: top;\n    }\n\n    .dataframe thead th {\n        text-align: right;\n    }\n</style>\n<table border=\"1\" class=\"dataframe\">\n  <thead>\n    <tr style=\"text-align: right;\">\n      <th></th>\n      <th>Timestamp</th>\n      <th>Prices</th>\n    </tr>\n  </thead>\n  <tbody>\n    <tr>\n      <th>0</th>\n      <td>2/4/17 0:00</td>\n      <td>1099.169125</td>\n    </tr>\n    <tr>\n      <th>1</th>\n      <td>3/4/17 0:00</td>\n      <td>1141.813000</td>\n    </tr>\n    <tr>\n      <th>2</th>\n      <td>4/4/17 0:00</td>\n      <td>NaN</td>\n    </tr>\n    <tr>\n      <th>3</th>\n      <td>5/4/17 0:00</td>\n      <td>1133.079314</td>\n    </tr>\n    <tr>\n      <th>4</th>\n      <td>6/4/17 0:00</td>\n      <td>NaN</td>\n    </tr>\n    <tr>\n      <th>5</th>\n      <td>7/4/17 0:00</td>\n      <td>NaN</td>\n    </tr>\n    <tr>\n      <th>6</th>\n      <td>8/4/17 0:00</td>\n      <td>1181.149838</td>\n    </tr>\n    <tr>\n      <th>7</th>\n      <td>9/4/17 0:00</td>\n      <td>1208.800500</td>\n    </tr>\n    <tr>\n      <th>8</th>\n      <td>10/4/17 0:00</td>\n      <td>1207.744875</td>\n    </tr>\n    <tr>\n      <th>9</th>\n      <td>11/4/17 0:00</td>\n      <td>1226.617038</td>\n    </tr>\n  </tbody>\n</table>\n</div>"
     },
     "execution_count": 9,
     "metadata": {},
     "output_type": "execute_result"
    }
   ],
   "source": [
    "# Assign column names with actual names instead of the default\n",
    "names = ['Timestamp', 'Prices']\n",
    "fixed = read_csv('files/btc-market-price.csv',\n",
    "                 names=names,\n",
    "                 header=None, na_values=['?', '-', ''])\n",
    "\n",
    "fixed.head(10)"
   ],
   "metadata": {
    "collapsed": false
   }
  },
  {
   "cell_type": "code",
   "execution_count": 15,
   "outputs": [
    {
     "data": {
      "text/plain": "        Timestamp       Prices\n0     2/4/17 0:00  1099.169125\n1     3/4/17 0:00  1141.813000\n2     4/4/17 0:00          NaN\n3     5/4/17 0:00  1133.079314\n4     6/4/17 0:00          NaN\n..            ...          ...\n360  28/3/18 0:00  7960.380000\n361  29/3/18 0:00  7172.280000\n362  30/3/18 0:00  6882.531667\n363  31/3/18 0:00  6935.480000\n364   1/4/18 0:00  6794.105000\n\n[365 rows x 2 columns]",
      "text/html": "<div>\n<style scoped>\n    .dataframe tbody tr th:only-of-type {\n        vertical-align: middle;\n    }\n\n    .dataframe tbody tr th {\n        vertical-align: top;\n    }\n\n    .dataframe thead th {\n        text-align: right;\n    }\n</style>\n<table border=\"1\" class=\"dataframe\">\n  <thead>\n    <tr style=\"text-align: right;\">\n      <th></th>\n      <th>Timestamp</th>\n      <th>Prices</th>\n    </tr>\n  </thead>\n  <tbody>\n    <tr>\n      <th>0</th>\n      <td>2/4/17 0:00</td>\n      <td>1099.169125</td>\n    </tr>\n    <tr>\n      <th>1</th>\n      <td>3/4/17 0:00</td>\n      <td>1141.813000</td>\n    </tr>\n    <tr>\n      <th>2</th>\n      <td>4/4/17 0:00</td>\n      <td>NaN</td>\n    </tr>\n    <tr>\n      <th>3</th>\n      <td>5/4/17 0:00</td>\n      <td>1133.079314</td>\n    </tr>\n    <tr>\n      <th>4</th>\n      <td>6/4/17 0:00</td>\n      <td>NaN</td>\n    </tr>\n    <tr>\n      <th>...</th>\n      <td>...</td>\n      <td>...</td>\n    </tr>\n    <tr>\n      <th>360</th>\n      <td>28/3/18 0:00</td>\n      <td>7960.380000</td>\n    </tr>\n    <tr>\n      <th>361</th>\n      <td>29/3/18 0:00</td>\n      <td>7172.280000</td>\n    </tr>\n    <tr>\n      <th>362</th>\n      <td>30/3/18 0:00</td>\n      <td>6882.531667</td>\n    </tr>\n    <tr>\n      <th>363</th>\n      <td>31/3/18 0:00</td>\n      <td>6935.480000</td>\n    </tr>\n    <tr>\n      <th>364</th>\n      <td>1/4/18 0:00</td>\n      <td>6794.105000</td>\n    </tr>\n  </tbody>\n</table>\n<p>365 rows × 2 columns</p>\n</div>"
     },
     "execution_count": 15,
     "metadata": {},
     "output_type": "execute_result"
    }
   ],
   "source": [
    "# Assign data type(s) for parameters\n",
    "fixed = read_csv('files/btc-market-price.csv',\n",
    "                 header=None, na_values=['?','-',''],\n",
    "                 names=names,\n",
    "                 dtype={'Price':'float'})\n",
    "fixed"
   ],
   "metadata": {
    "collapsed": false
   }
  },
  {
   "cell_type": "code",
   "execution_count": 22,
   "outputs": [
    {
     "data": {
      "text/plain": "Timestamp    datetime64[ns]\nPrices              float64\ndtype: object"
     },
     "execution_count": 22,
     "metadata": {},
     "output_type": "execute_result"
    }
   ],
   "source": [
    "# Parse the timeframe to datetime using the two possible options\n",
    "# Approach 1\n",
    "fixed['Timestamp'] = pd.to_datetime(fixed.Timestamp)\n",
    "fixed.dtypes"
   ],
   "metadata": {
    "collapsed": false
   }
  },
  {
   "cell_type": "code",
   "execution_count": 23,
   "outputs": [
    {
     "data": {
      "text/plain": "Timestamp    datetime64[ns]\nPrices              float64\ndtype: object"
     },
     "execution_count": 23,
     "metadata": {},
     "output_type": "execute_result"
    }
   ],
   "source": [
    "# Approach 2\n",
    "read_csv('files/btc-market-price.csv',\n",
    "         na_values=['?', '-', ''], names=names,\n",
    "         parse_dates=['Timestamp'])\n",
    "fixed.dtypes"
   ],
   "metadata": {
    "collapsed": false
   }
  },
  {
   "cell_type": "code",
   "execution_count": 25,
   "outputs": [
    {
     "data": {
      "text/plain": "                 Prices\nTimestamp              \n2017-02-04  1099.169125\n2017-03-04  1141.813000\n2017-04-04          NaN\n2017-05-04  1133.079314\n2017-06-04          NaN",
      "text/html": "<div>\n<style scoped>\n    .dataframe tbody tr th:only-of-type {\n        vertical-align: middle;\n    }\n\n    .dataframe tbody tr th {\n        vertical-align: top;\n    }\n\n    .dataframe thead th {\n        text-align: right;\n    }\n</style>\n<table border=\"1\" class=\"dataframe\">\n  <thead>\n    <tr style=\"text-align: right;\">\n      <th></th>\n      <th>Prices</th>\n    </tr>\n    <tr>\n      <th>Timestamp</th>\n      <th></th>\n    </tr>\n  </thead>\n  <tbody>\n    <tr>\n      <th>2017-02-04</th>\n      <td>1099.169125</td>\n    </tr>\n    <tr>\n      <th>2017-03-04</th>\n      <td>1141.813000</td>\n    </tr>\n    <tr>\n      <th>2017-04-04</th>\n      <td>NaN</td>\n    </tr>\n    <tr>\n      <th>2017-05-04</th>\n      <td>1133.079314</td>\n    </tr>\n    <tr>\n      <th>2017-06-04</th>\n      <td>NaN</td>\n    </tr>\n  </tbody>\n</table>\n</div>"
     },
     "execution_count": 25,
     "metadata": {},
     "output_type": "execute_result"
    }
   ],
   "source": [
    "# Override the index of our data\n",
    "fixed = read_csv('files/btc-market-price.csv',\n",
    "                 index_col=['Timestamp'],\n",
    "                 names=names, parse_dates=['Timestamp'],\n",
    "                 na_values=['?', '-', ' '])\n",
    "\n",
    "fixed.head(5)"
   ],
   "metadata": {
    "collapsed": false
   }
  },
  {
   "cell_type": "code",
   "execution_count": 29,
   "outputs": [
    {
     "data": {
      "text/plain": "                               first_name>last_name>age>math_score>french_score\nRay>Morley>18>\"68     000\">\"75                                             000\"\nMelvin>Scott>24>77>83 NaN                                                   NaN\nAmirah>Haley>22>92>67 NaN                                                   NaN\nGerard>Mills>19>\"78   000\">72                                               NaN\nAmy>Grimes>23>91>81   NaN                                                   NaN",
      "text/html": "<div>\n<style scoped>\n    .dataframe tbody tr th:only-of-type {\n        vertical-align: middle;\n    }\n\n    .dataframe tbody tr th {\n        vertical-align: top;\n    }\n\n    .dataframe thead th {\n        text-align: right;\n    }\n</style>\n<table border=\"1\" class=\"dataframe\">\n  <thead>\n    <tr style=\"text-align: right;\">\n      <th></th>\n      <th></th>\n      <th>first_name&gt;last_name&gt;age&gt;math_score&gt;french_score</th>\n    </tr>\n  </thead>\n  <tbody>\n    <tr>\n      <th>Ray&gt;Morley&gt;18&gt;\"68</th>\n      <th>000\"&gt;\"75</th>\n      <td>000\"</td>\n    </tr>\n    <tr>\n      <th>Melvin&gt;Scott&gt;24&gt;77&gt;83</th>\n      <th>NaN</th>\n      <td>NaN</td>\n    </tr>\n    <tr>\n      <th>Amirah&gt;Haley&gt;22&gt;92&gt;67</th>\n      <th>NaN</th>\n      <td>NaN</td>\n    </tr>\n    <tr>\n      <th>Gerard&gt;Mills&gt;19&gt;\"78</th>\n      <th>000\"&gt;72</th>\n      <td>NaN</td>\n    </tr>\n    <tr>\n      <th>Amy&gt;Grimes&gt;23&gt;91&gt;81</th>\n      <th>NaN</th>\n      <td>NaN</td>\n    </tr>\n  </tbody>\n</table>\n</div>"
     },
     "execution_count": 29,
     "metadata": {},
     "output_type": "execute_result"
    }
   ],
   "source": [
    "# Read the crazy mess csv file and use the regex(sep) option on\n",
    "read_mess = read_csv('files/exam_review.csv')\n",
    "read_mess.head(5)"
   ],
   "metadata": {
    "collapsed": false
   }
  },
  {
   "cell_type": "code",
   "execution_count": 30,
   "outputs": [
    {
     "data": {
      "text/plain": "  first_name last_name  age math_score french_score\n0        Ray    Morley   18     68,000       75,000\n1     Melvin     Scott   24         77           83\n2     Amirah     Haley   22         92           67\n3     Gerard     Mills   19     78,000           72\n4        Amy    Grimes   23         91           81",
      "text/html": "<div>\n<style scoped>\n    .dataframe tbody tr th:only-of-type {\n        vertical-align: middle;\n    }\n\n    .dataframe tbody tr th {\n        vertical-align: top;\n    }\n\n    .dataframe thead th {\n        text-align: right;\n    }\n</style>\n<table border=\"1\" class=\"dataframe\">\n  <thead>\n    <tr style=\"text-align: right;\">\n      <th></th>\n      <th>first_name</th>\n      <th>last_name</th>\n      <th>age</th>\n      <th>math_score</th>\n      <th>french_score</th>\n    </tr>\n  </thead>\n  <tbody>\n    <tr>\n      <th>0</th>\n      <td>Ray</td>\n      <td>Morley</td>\n      <td>18</td>\n      <td>68,000</td>\n      <td>75,000</td>\n    </tr>\n    <tr>\n      <th>1</th>\n      <td>Melvin</td>\n      <td>Scott</td>\n      <td>24</td>\n      <td>77</td>\n      <td>83</td>\n    </tr>\n    <tr>\n      <th>2</th>\n      <td>Amirah</td>\n      <td>Haley</td>\n      <td>22</td>\n      <td>92</td>\n      <td>67</td>\n    </tr>\n    <tr>\n      <th>3</th>\n      <td>Gerard</td>\n      <td>Mills</td>\n      <td>19</td>\n      <td>78,000</td>\n      <td>72</td>\n    </tr>\n    <tr>\n      <th>4</th>\n      <td>Amy</td>\n      <td>Grimes</td>\n      <td>23</td>\n      <td>91</td>\n      <td>81</td>\n    </tr>\n  </tbody>\n</table>\n</div>"
     },
     "execution_count": 30,
     "metadata": {},
     "output_type": "execute_result"
    }
   ],
   "source": [
    "read_mess = read_csv('files/exam_review.csv',\n",
    "                     sep='>')\n",
    "read_mess"
   ],
   "metadata": {
    "collapsed": false
   }
  },
  {
   "cell_type": "code",
   "execution_count": 42,
   "outputs": [
    {
     "data": {
      "text/plain": "  first_name last_name  age  math_score  french_score\n0        Ray    Morley   18        68.0          75.0\n1     Melvin     Scott   24        77.0          83.0\n2     Amirah     Haley   22        92.0          67.0\n3     Gerard     Mills   19        78.0          72.0\n4        Amy    Grimes   23        91.0          81.0",
      "text/html": "<div>\n<style scoped>\n    .dataframe tbody tr th:only-of-type {\n        vertical-align: middle;\n    }\n\n    .dataframe tbody tr th {\n        vertical-align: top;\n    }\n\n    .dataframe thead th {\n        text-align: right;\n    }\n</style>\n<table border=\"1\" class=\"dataframe\">\n  <thead>\n    <tr style=\"text-align: right;\">\n      <th></th>\n      <th>first_name</th>\n      <th>last_name</th>\n      <th>age</th>\n      <th>math_score</th>\n      <th>french_score</th>\n    </tr>\n  </thead>\n  <tbody>\n    <tr>\n      <th>0</th>\n      <td>Ray</td>\n      <td>Morley</td>\n      <td>18</td>\n      <td>68.0</td>\n      <td>75.0</td>\n    </tr>\n    <tr>\n      <th>1</th>\n      <td>Melvin</td>\n      <td>Scott</td>\n      <td>24</td>\n      <td>77.0</td>\n      <td>83.0</td>\n    </tr>\n    <tr>\n      <th>2</th>\n      <td>Amirah</td>\n      <td>Haley</td>\n      <td>22</td>\n      <td>92.0</td>\n      <td>67.0</td>\n    </tr>\n    <tr>\n      <th>3</th>\n      <td>Gerard</td>\n      <td>Mills</td>\n      <td>19</td>\n      <td>78.0</td>\n      <td>72.0</td>\n    </tr>\n    <tr>\n      <th>4</th>\n      <td>Amy</td>\n      <td>Grimes</td>\n      <td>23</td>\n      <td>91.0</td>\n      <td>81.0</td>\n    </tr>\n  </tbody>\n</table>\n</div>"
     },
     "execution_count": 42,
     "metadata": {},
     "output_type": "execute_result"
    }
   ],
   "source": [
    "# fix data using the decimal and thousands options\n",
    "read_mess = read_csv('files/exam_review.csv',\n",
    "                     decimal=',', sep='>')\n",
    "read_mess.head(10)"
   ],
   "metadata": {
    "collapsed": false
   }
  },
  {
   "cell_type": "code",
   "execution_count": 43,
   "outputs": [
    {
     "data": {
      "text/plain": "math_score      float64\nfrench_score    float64\ndtype: object"
     },
     "execution_count": 43,
     "metadata": {},
     "output_type": "execute_result"
    }
   ],
   "source": [
    "# Get the data type for all columns\n",
    "read_mess[['math_score', 'french_score']].dtypes"
   ],
   "metadata": {
    "collapsed": false
   }
  },
  {
   "cell_type": "code",
   "execution_count": 33,
   "outputs": [
    {
     "data": {
      "text/plain": "2"
     },
     "execution_count": 33,
     "metadata": {},
     "output_type": "execute_result"
    }
   ],
   "source": [
    "# Get the dimension of this file\n",
    "read_mess.ndim"
   ],
   "metadata": {
    "collapsed": false
   }
  },
  {
   "cell_type": "code",
   "execution_count": 39,
   "outputs": [
    {
     "data": {
      "text/plain": "   Amirah   Haley  22    92  67\n0  Gerard   Mills  19  78.0  72\n1     Amy  Grimes  23  91.0  81",
      "text/html": "<div>\n<style scoped>\n    .dataframe tbody tr th:only-of-type {\n        vertical-align: middle;\n    }\n\n    .dataframe tbody tr th {\n        vertical-align: top;\n    }\n\n    .dataframe thead th {\n        text-align: right;\n    }\n</style>\n<table border=\"1\" class=\"dataframe\">\n  <thead>\n    <tr style=\"text-align: right;\">\n      <th></th>\n      <th>Amirah</th>\n      <th>Haley</th>\n      <th>22</th>\n      <th>92</th>\n      <th>67</th>\n    </tr>\n  </thead>\n  <tbody>\n    <tr>\n      <th>0</th>\n      <td>Gerard</td>\n      <td>Mills</td>\n      <td>19</td>\n      <td>78.0</td>\n      <td>72</td>\n    </tr>\n    <tr>\n      <th>1</th>\n      <td>Amy</td>\n      <td>Grimes</td>\n      <td>23</td>\n      <td>91.0</td>\n      <td>81</td>\n    </tr>\n  </tbody>\n</table>\n</div>"
     },
     "execution_count": 39,
     "metadata": {},
     "output_type": "execute_result"
    }
   ],
   "source": [
    "# Skip some rows and play around with that option\n",
    "read_mess = read_csv('files/exam_review.csv',\n",
    "                     sep='>', decimal=',', skiprows=3)\n",
    "read_mess"
   ],
   "metadata": {
    "collapsed": false
   }
  },
  {
   "cell_type": "code",
   "execution_count": 48,
   "outputs": [
    {
     "data": {
      "text/plain": "  first_name last_name  age  math_score  french_score\n0        Ray    Morley   18        68.0          75.0\n1     Melvin     Scott   24        77.0          83.0\n2     Amirah     Haley   22        92.0          67.0\n3     Gerard     Mills   19        78.0          72.0\n4        Amy    Grimes   23        91.0          81.0",
      "text/html": "<div>\n<style scoped>\n    .dataframe tbody tr th:only-of-type {\n        vertical-align: middle;\n    }\n\n    .dataframe tbody tr th {\n        vertical-align: top;\n    }\n\n    .dataframe thead th {\n        text-align: right;\n    }\n</style>\n<table border=\"1\" class=\"dataframe\">\n  <thead>\n    <tr style=\"text-align: right;\">\n      <th></th>\n      <th>first_name</th>\n      <th>last_name</th>\n      <th>age</th>\n      <th>math_score</th>\n      <th>french_score</th>\n    </tr>\n  </thead>\n  <tbody>\n    <tr>\n      <th>0</th>\n      <td>Ray</td>\n      <td>Morley</td>\n      <td>18</td>\n      <td>68.0</td>\n      <td>75.0</td>\n    </tr>\n    <tr>\n      <th>1</th>\n      <td>Melvin</td>\n      <td>Scott</td>\n      <td>24</td>\n      <td>77.0</td>\n      <td>83.0</td>\n    </tr>\n    <tr>\n      <th>2</th>\n      <td>Amirah</td>\n      <td>Haley</td>\n      <td>22</td>\n      <td>92.0</td>\n      <td>67.0</td>\n    </tr>\n    <tr>\n      <th>3</th>\n      <td>Gerard</td>\n      <td>Mills</td>\n      <td>19</td>\n      <td>78.0</td>\n      <td>72.0</td>\n    </tr>\n    <tr>\n      <th>4</th>\n      <td>Amy</td>\n      <td>Grimes</td>\n      <td>23</td>\n      <td>91.0</td>\n      <td>81.0</td>\n    </tr>\n  </tbody>\n</table>\n</div>"
     },
     "execution_count": 48,
     "metadata": {},
     "output_type": "execute_result"
    }
   ],
   "source": [
    "# skip blank lines with suitable options and vice versa\n",
    "read_mess = read_csv('files/exam_review.csv',\n",
    "                     skip_blank_lines=True, sep='>',\n",
    "                     decimal=',')\n",
    "read_mess"
   ],
   "metadata": {
    "collapsed": false
   }
  },
  {
   "cell_type": "code",
   "execution_count": 51,
   "outputs": [
    {
     "data": {
      "text/plain": "pandas.core.frame.DataFrame"
     },
     "execution_count": 51,
     "metadata": {},
     "output_type": "execute_result"
    }
   ],
   "source": [
    "# Use specific columns, both ways\n",
    "read_mess = read_csv('files/exam_review.csv',\n",
    "                     sep='>', skip_blank_lines=True,\n",
    "                     usecols=['math_score', 'french_score'])\n",
    "type(read_mess)"
   ],
   "metadata": {
    "collapsed": false
   }
  },
  {
   "cell_type": "code",
   "execution_count": 58,
   "outputs": [
    {
     "data": {
      "text/plain": "pandas.core.series.Series"
     },
     "execution_count": 58,
     "metadata": {},
     "output_type": "execute_result"
    }
   ],
   "source": [
    "# Squeeze data if the return is of one column\n",
    "read_mess = read_csv('files/exam_review.csv',\n",
    "                     sep='>', usecols=['french_score'],\n",
    "                     decimal=',')\n",
    "mass = read_mess.squeeze()\n",
    "type(mass)"
   ],
   "metadata": {
    "collapsed": false
   }
  },
  {
   "cell_type": "code",
   "execution_count": 88,
   "outputs": [
    {
     "name": "stderr",
     "output_type": "stream",
     "text": [
      "C:\\Python310\\lib\\site-packages\\numpy\\core\\fromnumeric.py:3430: FutureWarning: In a future version, DataFrame.mean(axis=None) will return a scalar mean over the entire DataFrame. To retain the old behavior, use 'frame.mean(axis=0)' or just 'frame.mean()'\n",
      "  return mean(axis=axis, dtype=dtype, out=out, **kwargs)\n"
     ]
    },
    {
     "data": {
      "text/plain": "<AxesSubplot: ylabel='math_score'>"
     },
     "execution_count": 88,
     "metadata": {},
     "output_type": "execute_result"
    },
    {
     "data": {
      "text/plain": "<Figure size 600x600 with 1 Axes>",
      "image/png": "[encoded data removed]"
     },
     "metadata": {},
     "output_type": "display_data"
    }
   ],
   "source": [
    "# Do some plotting with pandas, or you may save your data to a new csv file\n",
    "read_mess = read_csv('files/exam_review.csv',\n",
    "                     sep='>', skip_blank_lines=True,\n",
    "                     decimal=',',\n",
    "                     index_col=['first_name'])\n",
    "# find the average score of students and plot it\n",
    "\n",
    "mean_score = read_mess[['math_score', 'french_score']]\n",
    "avg = np.mean(mean_score)\n",
    "read_mess['math_score'].plot(kind='pie', figsize=(6,6))"
   ],
   "metadata": {
    "collapsed": false
   }
  },
  {
   "cell_type": "code",
   "execution_count": 96,
   "outputs": [
    {
     "data": {
      "text/plain": "first_name\nRay       71.5\nMelvin    80.0\nAmirah    79.5\nGerard    75.0\nAmy       86.0\ndtype: float64"
     },
     "execution_count": 96,
     "metadata": {},
     "output_type": "execute_result"
    },
    {
     "data": {
      "text/plain": "<Figure size 600x600 with 1 Axes>",
      "image/png": "[encoded data removed]"
     },
     "metadata": {},
     "output_type": "display_data"
    }
   ],
   "source": [
    "# mean_score = read_mess[['french_score', 'math_score']]\n",
    "mean_score = (read_mess['math_score'] + read_mess['french_score']) / 2\n",
    "\n",
    "mean_score.plot(kind='pie', figsize=(6,6))\n",
    "mean_score"
   ],
   "metadata": {
    "collapsed": false
   }
  },
  {
   "cell_type": "code",
   "execution_count": null,
   "outputs": [],
   "source": [],
   "metadata": {
    "collapsed": false
   }
  },
  {
   "cell_type": "code",
   "execution_count": 97,
   "outputs": [],
   "source": [
    "read_mess.to_csv('cleaned')\n"
   ],
   "metadata": {
    "collapsed": false
   }
  },
  {
   "cell_type": "code",
   "execution_count": null,
   "outputs": [],
   "source": [],
   "metadata": {
    "collapsed": false
   }
  }
 ],
 "metadata": {
  "kernelspec": {
   "display_name": "Python 3",
   "language": "python",
   "name": "python3"
  },
  "language_info": {
   "codemirror_mode": {
    "name": "ipython",
    "version": 2
   },
   "file_extension": ".py",
   "mimetype": "text/x-python",
   "name": "python",
   "nbconvert_exporter": "python",
   "pygments_lexer": "ipython2",
   "version": "2.7.6"
  }
 },
 "nbformat": 4,
 "nbformat_minor": 0
}
