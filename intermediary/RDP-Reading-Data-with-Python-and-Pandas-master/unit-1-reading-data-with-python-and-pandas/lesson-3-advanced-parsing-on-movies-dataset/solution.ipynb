{
 "cells": [
  {
   "cell_type": "code",
   "execution_count": null,
   "metadata": {
    "collapsed": true
   },
   "outputs": [],
   "source": [
    "# Load data\n",
    "\n",
    "# Use separator to make it right\n",
    "\n",
    "# There is not defined header, set it appropriately\n",
    "# Make missing values as nan\n",
    "# Turn comma numbers to floats as they are budgets\n",
    "# The df index should be represented by the movie_title column"
   ]
  },
  {
   "cell_type": "code",
   "execution_count": 4,
   "outputs": [
    {
     "data": {
      "text/plain": "   Color      James Cameron  723.0  178.0  760505847.0  \\\n0  Color     Gore Verbinski  302.0  169.0  309404152.0   \n1  Color         Sam Mendes  602.0  148.0  200074175.0   \n2  Color  Christopher Nolan  813.0  164.0  448130642.0   \n3      ?        Doug Walker      ?      ?            ?   \n4  Color     Andrew Stanton  462.0  132.0   73058679.0   \n\n                                             Avatar   3054.0  USA  PG-13  \\\n0          Pirates of the Caribbean: At World's End   1238.0  USA  PG-13   \n1                                           Spectre    994.0   UK  PG-13   \n2                             The Dark Knight Rises   2701.0  USA  PG-13   \n3  Star Wars: Episode VII - The Force Awakens    ...       ?    ?      ?   \n4                                       John Carter    738.0  USA  PG-13   \n\n   237,000,000.0  2009.0  7.9       Action  \n0  300,000,000.0  2007.0  7.1       Action  \n1  245,000,000.0  2015.0  6.8       Action  \n2  250,000,000.0  2012.0  8.5       Action  \n3              ?       ?  7.1  Documentary  \n4  263,700,000.0  2012.0  6.6       Action  ",
      "text/html": "<div>\n<style scoped>\n    .dataframe tbody tr th:only-of-type {\n        vertical-align: middle;\n    }\n\n    .dataframe tbody tr th {\n        vertical-align: top;\n    }\n\n    .dataframe thead th {\n        text-align: right;\n    }\n</style>\n<table border=\"1\" class=\"dataframe\">\n  <thead>\n    <tr style=\"text-align: right;\">\n      <th></th>\n      <th>Color</th>\n      <th>James Cameron</th>\n      <th>723.0</th>\n      <th>178.0</th>\n      <th>760505847.0</th>\n      <th>Avatar</th>\n      <th>3054.0</th>\n      <th>USA</th>\n      <th>PG-13</th>\n      <th>237,000,000.0</th>\n      <th>2009.0</th>\n      <th>7.9</th>\n      <th>Action</th>\n    </tr>\n  </thead>\n  <tbody>\n    <tr>\n      <th>0</th>\n      <td>Color</td>\n      <td>Gore Verbinski</td>\n      <td>302.0</td>\n      <td>169.0</td>\n      <td>309404152.0</td>\n      <td>Pirates of the Caribbean: At World's End</td>\n      <td>1238.0</td>\n      <td>USA</td>\n      <td>PG-13</td>\n      <td>300,000,000.0</td>\n      <td>2007.0</td>\n      <td>7.1</td>\n      <td>Action</td>\n    </tr>\n    <tr>\n      <th>1</th>\n      <td>Color</td>\n      <td>Sam Mendes</td>\n      <td>602.0</td>\n      <td>148.0</td>\n      <td>200074175.0</td>\n      <td>Spectre</td>\n      <td>994.0</td>\n      <td>UK</td>\n      <td>PG-13</td>\n      <td>245,000,000.0</td>\n      <td>2015.0</td>\n      <td>6.8</td>\n      <td>Action</td>\n    </tr>\n    <tr>\n      <th>2</th>\n      <td>Color</td>\n      <td>Christopher Nolan</td>\n      <td>813.0</td>\n      <td>164.0</td>\n      <td>448130642.0</td>\n      <td>The Dark Knight Rises</td>\n      <td>2701.0</td>\n      <td>USA</td>\n      <td>PG-13</td>\n      <td>250,000,000.0</td>\n      <td>2012.0</td>\n      <td>8.5</td>\n      <td>Action</td>\n    </tr>\n    <tr>\n      <th>3</th>\n      <td>?</td>\n      <td>Doug Walker</td>\n      <td>?</td>\n      <td>?</td>\n      <td>?</td>\n      <td>Star Wars: Episode VII - The Force Awakens    ...</td>\n      <td>?</td>\n      <td>?</td>\n      <td>?</td>\n      <td>?</td>\n      <td>?</td>\n      <td>7.1</td>\n      <td>Documentary</td>\n    </tr>\n    <tr>\n      <th>4</th>\n      <td>Color</td>\n      <td>Andrew Stanton</td>\n      <td>462.0</td>\n      <td>132.0</td>\n      <td>73058679.0</td>\n      <td>John Carter</td>\n      <td>738.0</td>\n      <td>USA</td>\n      <td>PG-13</td>\n      <td>263,700,000.0</td>\n      <td>2012.0</td>\n      <td>6.6</td>\n      <td>Action</td>\n    </tr>\n  </tbody>\n</table>\n</div>"
     },
     "execution_count": 4,
     "metadata": {},
     "output_type": "execute_result"
    }
   ],
   "source": [
    "import pandas as pd\n",
    "\n",
    "movies = pd.read_csv('files/movies.csv', sep='|')\n",
    "movies.head(5)"
   ],
   "metadata": {
    "collapsed": false
   }
  },
  {
   "cell_type": "code",
   "execution_count": 6,
   "outputs": [
    {
     "data": {
      "text/plain": "   color      director_name num_critic_for_reviews duration        gross  \\\n0  Color      James Cameron                  723.0    178.0  760505847.0   \n1  Color     Gore Verbinski                  302.0    169.0  309404152.0   \n2  Color         Sam Mendes                  602.0    148.0  200074175.0   \n3  Color  Christopher Nolan                  813.0    164.0  448130642.0   \n4      ?        Doug Walker                      ?        ?            ?   \n\n                                         movie_title num_user_for_reviews  \\\n0                                            Avatar                3054.0   \n1          Pirates of the Caribbean: At World's End                1238.0   \n2                                           Spectre                 994.0   \n3                             The Dark Knight Rises                2701.0   \n4  Star Wars: Episode VII - The Force Awakens    ...                    ?   \n\n  country cotent_rating         budget title_year  imdb_score        genre  \n0     USA         PG-13  237,000,000.0     2009.0         7.9       Action  \n1     USA         PG-13  300,000,000.0     2007.0         7.1       Action  \n2      UK         PG-13  245,000,000.0     2015.0         6.8       Action  \n3     USA         PG-13  250,000,000.0     2012.0         8.5       Action  \n4       ?             ?              ?          ?         7.1  Documentary  ",
      "text/html": "<div>\n<style scoped>\n    .dataframe tbody tr th:only-of-type {\n        vertical-align: middle;\n    }\n\n    .dataframe tbody tr th {\n        vertical-align: top;\n    }\n\n    .dataframe thead th {\n        text-align: right;\n    }\n</style>\n<table border=\"1\" class=\"dataframe\">\n  <thead>\n    <tr style=\"text-align: right;\">\n      <th></th>\n      <th>color</th>\n      <th>director_name</th>\n      <th>num_critic_for_reviews</th>\n      <th>duration</th>\n      <th>gross</th>\n      <th>movie_title</th>\n      <th>num_user_for_reviews</th>\n      <th>country</th>\n      <th>cotent_rating</th>\n      <th>budget</th>\n      <th>title_year</th>\n      <th>imdb_score</th>\n      <th>genre</th>\n    </tr>\n  </thead>\n  <tbody>\n    <tr>\n      <th>0</th>\n      <td>Color</td>\n      <td>James Cameron</td>\n      <td>723.0</td>\n      <td>178.0</td>\n      <td>760505847.0</td>\n      <td>Avatar</td>\n      <td>3054.0</td>\n      <td>USA</td>\n      <td>PG-13</td>\n      <td>237,000,000.0</td>\n      <td>2009.0</td>\n      <td>7.9</td>\n      <td>Action</td>\n    </tr>\n    <tr>\n      <th>1</th>\n      <td>Color</td>\n      <td>Gore Verbinski</td>\n      <td>302.0</td>\n      <td>169.0</td>\n      <td>309404152.0</td>\n      <td>Pirates of the Caribbean: At World's End</td>\n      <td>1238.0</td>\n      <td>USA</td>\n      <td>PG-13</td>\n      <td>300,000,000.0</td>\n      <td>2007.0</td>\n      <td>7.1</td>\n      <td>Action</td>\n    </tr>\n    <tr>\n      <th>2</th>\n      <td>Color</td>\n      <td>Sam Mendes</td>\n      <td>602.0</td>\n      <td>148.0</td>\n      <td>200074175.0</td>\n      <td>Spectre</td>\n      <td>994.0</td>\n      <td>UK</td>\n      <td>PG-13</td>\n      <td>245,000,000.0</td>\n      <td>2015.0</td>\n      <td>6.8</td>\n      <td>Action</td>\n    </tr>\n    <tr>\n      <th>3</th>\n      <td>Color</td>\n      <td>Christopher Nolan</td>\n      <td>813.0</td>\n      <td>164.0</td>\n      <td>448130642.0</td>\n      <td>The Dark Knight Rises</td>\n      <td>2701.0</td>\n      <td>USA</td>\n      <td>PG-13</td>\n      <td>250,000,000.0</td>\n      <td>2012.0</td>\n      <td>8.5</td>\n      <td>Action</td>\n    </tr>\n    <tr>\n      <th>4</th>\n      <td>?</td>\n      <td>Doug Walker</td>\n      <td>?</td>\n      <td>?</td>\n      <td>?</td>\n      <td>Star Wars: Episode VII - The Force Awakens    ...</td>\n      <td>?</td>\n      <td>?</td>\n      <td>?</td>\n      <td>?</td>\n      <td>?</td>\n      <td>7.1</td>\n      <td>Documentary</td>\n    </tr>\n  </tbody>\n</table>\n</div>"
     },
     "execution_count": 6,
     "metadata": {},
     "output_type": "execute_result"
    }
   ],
   "source": [
    "column_names = ['color', 'director_name', 'num_critic_for_reviews', 'duration','gross', 'movie_title', 'num_user_for_reviews',\t'country',\n",
    "'cotent_rating', 'budget', 'title_year', 'imdb_score', 'genre']\n",
    "\n",
    "movies = pd.read_csv('files/movies.csv',\n",
    "                     sep='|', header=None, names=column_names)\n",
    "movies.head(5)"
   ],
   "metadata": {
    "collapsed": false
   }
  },
  {
   "cell_type": "code",
   "execution_count": 9,
   "outputs": [
    {
     "data": {
      "text/plain": "   color      director_name num_critic_for_reviews duration        gross  \\\n0  Color      James Cameron                  723.0    178.0  760505847.0   \n1  Color     Gore Verbinski                  302.0    169.0  309404152.0   \n2  Color         Sam Mendes                  602.0    148.0  200074175.0   \n3  Color  Christopher Nolan                  813.0    164.0  448130642.0   \n4      ?        Doug Walker                      ?        ?            ?   \n5  Color     Andrew Stanton                  462.0    132.0   73058679.0   \n6  Color          Sam Raimi                  392.0    156.0  336530303.0   \n7  Color       Nathan Greno                  324.0    100.0  200807262.0   \n8  Color        Joss Whedon                  635.0    141.0  458991599.0   \n9  Color        David Yates                  375.0    153.0  301956980.0   \n\n                                         movie_title num_user_for_reviews  \\\n0                                            Avatar                3054.0   \n1          Pirates of the Caribbean: At World's End                1238.0   \n2                                           Spectre                 994.0   \n3                             The Dark Knight Rises                2701.0   \n4  Star Wars: Episode VII - The Force Awakens    ...                    ?   \n5                                       John Carter                 738.0   \n6                                      Spider-Man 3                1902.0   \n7                                           Tangled                 387.0   \n8                           Avengers: Age of Ultron                1117.0   \n9            Harry Potter and the Half-Blood Prince                 973.0   \n\n  country cotent_rating         budget title_year  imdb_score        genre  \n0     USA         PG-13  237,000,000.0     2009.0         7.9       Action  \n1     USA         PG-13  300,000,000.0     2007.0         7.1       Action  \n2      UK         PG-13  245,000,000.0     2015.0         6.8       Action  \n3     USA         PG-13  250,000,000.0     2012.0         8.5       Action  \n4       ?             ?              ?          ?         7.1  Documentary  \n5     USA         PG-13  263,700,000.0     2012.0         6.6       Action  \n6     USA         PG-13  258,000,000.0     2007.0         6.2       Action  \n7     USA            PG  260,000,000.0     2010.0         7.8    Adventure  \n8     USA         PG-13  250,000,000.0     2015.0         7.5       Action  \n9      UK            PG  250,000,000.0     2009.0         7.5    Adventure  ",
      "text/html": "<div>\n<style scoped>\n    .dataframe tbody tr th:only-of-type {\n        vertical-align: middle;\n    }\n\n    .dataframe tbody tr th {\n        vertical-align: top;\n    }\n\n    .dataframe thead th {\n        text-align: right;\n    }\n</style>\n<table border=\"1\" class=\"dataframe\">\n  <thead>\n    <tr style=\"text-align: right;\">\n      <th></th>\n      <th>color</th>\n      <th>director_name</th>\n      <th>num_critic_for_reviews</th>\n      <th>duration</th>\n      <th>gross</th>\n      <th>movie_title</th>\n      <th>num_user_for_reviews</th>\n      <th>country</th>\n      <th>cotent_rating</th>\n      <th>budget</th>\n      <th>title_year</th>\n      <th>imdb_score</th>\n      <th>genre</th>\n    </tr>\n  </thead>\n  <tbody>\n    <tr>\n      <th>0</th>\n      <td>Color</td>\n      <td>James Cameron</td>\n      <td>723.0</td>\n      <td>178.0</td>\n      <td>760505847.0</td>\n      <td>Avatar</td>\n      <td>3054.0</td>\n      <td>USA</td>\n      <td>PG-13</td>\n      <td>237,000,000.0</td>\n      <td>2009.0</td>\n      <td>7.9</td>\n      <td>Action</td>\n    </tr>\n    <tr>\n      <th>1</th>\n      <td>Color</td>\n      <td>Gore Verbinski</td>\n      <td>302.0</td>\n      <td>169.0</td>\n      <td>309404152.0</td>\n      <td>Pirates of the Caribbean: At World's End</td>\n      <td>1238.0</td>\n      <td>USA</td>\n      <td>PG-13</td>\n      <td>300,000,000.0</td>\n      <td>2007.0</td>\n      <td>7.1</td>\n      <td>Action</td>\n    </tr>\n    <tr>\n      <th>2</th>\n      <td>Color</td>\n      <td>Sam Mendes</td>\n      <td>602.0</td>\n      <td>148.0</td>\n      <td>200074175.0</td>\n      <td>Spectre</td>\n      <td>994.0</td>\n      <td>UK</td>\n      <td>PG-13</td>\n      <td>245,000,000.0</td>\n      <td>2015.0</td>\n      <td>6.8</td>\n      <td>Action</td>\n    </tr>\n    <tr>\n      <th>3</th>\n      <td>Color</td>\n      <td>Christopher Nolan</td>\n      <td>813.0</td>\n      <td>164.0</td>\n      <td>448130642.0</td>\n      <td>The Dark Knight Rises</td>\n      <td>2701.0</td>\n      <td>USA</td>\n      <td>PG-13</td>\n      <td>250,000,000.0</td>\n      <td>2012.0</td>\n      <td>8.5</td>\n      <td>Action</td>\n    </tr>\n    <tr>\n      <th>4</th>\n      <td>?</td>\n      <td>Doug Walker</td>\n      <td>?</td>\n      <td>?</td>\n      <td>?</td>\n      <td>Star Wars: Episode VII - The Force Awakens    ...</td>\n      <td>?</td>\n      <td>?</td>\n      <td>?</td>\n      <td>?</td>\n      <td>?</td>\n      <td>7.1</td>\n      <td>Documentary</td>\n    </tr>\n    <tr>\n      <th>5</th>\n      <td>Color</td>\n      <td>Andrew Stanton</td>\n      <td>462.0</td>\n      <td>132.0</td>\n      <td>73058679.0</td>\n      <td>John Carter</td>\n      <td>738.0</td>\n      <td>USA</td>\n      <td>PG-13</td>\n      <td>263,700,000.0</td>\n      <td>2012.0</td>\n      <td>6.6</td>\n      <td>Action</td>\n    </tr>\n    <tr>\n      <th>6</th>\n      <td>Color</td>\n      <td>Sam Raimi</td>\n      <td>392.0</td>\n      <td>156.0</td>\n      <td>336530303.0</td>\n      <td>Spider-Man 3</td>\n      <td>1902.0</td>\n      <td>USA</td>\n      <td>PG-13</td>\n      <td>258,000,000.0</td>\n      <td>2007.0</td>\n      <td>6.2</td>\n      <td>Action</td>\n    </tr>\n    <tr>\n      <th>7</th>\n      <td>Color</td>\n      <td>Nathan Greno</td>\n      <td>324.0</td>\n      <td>100.0</td>\n      <td>200807262.0</td>\n      <td>Tangled</td>\n      <td>387.0</td>\n      <td>USA</td>\n      <td>PG</td>\n      <td>260,000,000.0</td>\n      <td>2010.0</td>\n      <td>7.8</td>\n      <td>Adventure</td>\n    </tr>\n    <tr>\n      <th>8</th>\n      <td>Color</td>\n      <td>Joss Whedon</td>\n      <td>635.0</td>\n      <td>141.0</td>\n      <td>458991599.0</td>\n      <td>Avengers: Age of Ultron</td>\n      <td>1117.0</td>\n      <td>USA</td>\n      <td>PG-13</td>\n      <td>250,000,000.0</td>\n      <td>2015.0</td>\n      <td>7.5</td>\n      <td>Action</td>\n    </tr>\n    <tr>\n      <th>9</th>\n      <td>Color</td>\n      <td>David Yates</td>\n      <td>375.0</td>\n      <td>153.0</td>\n      <td>301956980.0</td>\n      <td>Harry Potter and the Half-Blood Prince</td>\n      <td>973.0</td>\n      <td>UK</td>\n      <td>PG</td>\n      <td>250,000,000.0</td>\n      <td>2009.0</td>\n      <td>7.5</td>\n      <td>Adventure</td>\n    </tr>\n  </tbody>\n</table>\n</div>"
     },
     "execution_count": 9,
     "metadata": {},
     "output_type": "execute_result"
    }
   ],
   "source": [
    "movies = pd.read_csv('files/movies.csv',\n",
    "                     sep='|', header=None, names=column_names,\n",
    "                     thousands=',')\n",
    "movies.head(10)"
   ],
   "metadata": {
    "collapsed": false
   }
  },
  {
   "cell_type": "code",
   "execution_count": 12,
   "outputs": [
    {
     "data": {
      "text/plain": "                                                    color      director_name  \\\nmovie_title                                                                    \nAvatar                                              Color      James Cameron   \nPirates of the Caribbean: At World's End            Color     Gore Verbinski   \nSpectre                                             Color         Sam Mendes   \nThe Dark Knight Rises                               Color  Christopher Nolan   \nStar Wars: Episode VII - The Force Awakens     ...    NaN        Doug Walker   \n\n                                                    num_critic_for_reviews  \\\nmovie_title                                                                  \nAvatar                                                               723.0   \nPirates of the Caribbean: At World's End                             302.0   \nSpectre                                                              602.0   \nThe Dark Knight Rises                                                813.0   \nStar Wars: Episode VII - The Force Awakens     ...                     NaN   \n\n                                                    duration        gross  \\\nmovie_title                                                                 \nAvatar                                                 178.0  760505847.0   \nPirates of the Caribbean: At World's End               169.0  309404152.0   \nSpectre                                                148.0  200074175.0   \nThe Dark Knight Rises                                  164.0  448130642.0   \nStar Wars: Episode VII - The Force Awakens     ...       NaN          NaN   \n\n                                                    num_user_for_reviews  \\\nmovie_title                                                                \nAvatar                                                            3054.0   \nPirates of the Caribbean: At World's End                          1238.0   \nSpectre                                                            994.0   \nThe Dark Knight Rises                                             2701.0   \nStar Wars: Episode VII - The Force Awakens     ...                   NaN   \n\n                                                   country cotent_rating  \\\nmovie_title                                                                \nAvatar                                                 USA         PG-13   \nPirates of the Caribbean: At World's End               USA         PG-13   \nSpectre                                                 UK         PG-13   \nThe Dark Knight Rises                                  USA         PG-13   \nStar Wars: Episode VII - The Force Awakens     ...     NaN           NaN   \n\n                                                         budget  title_year  \\\nmovie_title                                                                   \nAvatar                                              237000000.0      2009.0   \nPirates of the Caribbean: At World's End            300000000.0      2007.0   \nSpectre                                             245000000.0      2015.0   \nThe Dark Knight Rises                               250000000.0      2012.0   \nStar Wars: Episode VII - The Force Awakens     ...          NaN         NaN   \n\n                                                    imdb_score        genre  \nmovie_title                                                                  \nAvatar                                                     7.9       Action  \nPirates of the Caribbean: At World's End                   7.1       Action  \nSpectre                                                    6.8       Action  \nThe Dark Knight Rises                                      8.5       Action  \nStar Wars: Episode VII - The Force Awakens     ...         7.1  Documentary  ",
      "text/html": "<div>\n<style scoped>\n    .dataframe tbody tr th:only-of-type {\n        vertical-align: middle;\n    }\n\n    .dataframe tbody tr th {\n        vertical-align: top;\n    }\n\n    .dataframe thead th {\n        text-align: right;\n    }\n</style>\n<table border=\"1\" class=\"dataframe\">\n  <thead>\n    <tr style=\"text-align: right;\">\n      <th></th>\n      <th>color</th>\n      <th>director_name</th>\n      <th>num_critic_for_reviews</th>\n      <th>duration</th>\n      <th>gross</th>\n      <th>num_user_for_reviews</th>\n      <th>country</th>\n      <th>cotent_rating</th>\n      <th>budget</th>\n      <th>title_year</th>\n      <th>imdb_score</th>\n      <th>genre</th>\n    </tr>\n    <tr>\n      <th>movie_title</th>\n      <th></th>\n      <th></th>\n      <th></th>\n      <th></th>\n      <th></th>\n      <th></th>\n      <th></th>\n      <th></th>\n      <th></th>\n      <th></th>\n      <th></th>\n      <th></th>\n    </tr>\n  </thead>\n  <tbody>\n    <tr>\n      <th>Avatar</th>\n      <td>Color</td>\n      <td>James Cameron</td>\n      <td>723.0</td>\n      <td>178.0</td>\n      <td>760505847.0</td>\n      <td>3054.0</td>\n      <td>USA</td>\n      <td>PG-13</td>\n      <td>237000000.0</td>\n      <td>2009.0</td>\n      <td>7.9</td>\n      <td>Action</td>\n    </tr>\n    <tr>\n      <th>Pirates of the Caribbean: At World's End</th>\n      <td>Color</td>\n      <td>Gore Verbinski</td>\n      <td>302.0</td>\n      <td>169.0</td>\n      <td>309404152.0</td>\n      <td>1238.0</td>\n      <td>USA</td>\n      <td>PG-13</td>\n      <td>300000000.0</td>\n      <td>2007.0</td>\n      <td>7.1</td>\n      <td>Action</td>\n    </tr>\n    <tr>\n      <th>Spectre</th>\n      <td>Color</td>\n      <td>Sam Mendes</td>\n      <td>602.0</td>\n      <td>148.0</td>\n      <td>200074175.0</td>\n      <td>994.0</td>\n      <td>UK</td>\n      <td>PG-13</td>\n      <td>245000000.0</td>\n      <td>2015.0</td>\n      <td>6.8</td>\n      <td>Action</td>\n    </tr>\n    <tr>\n      <th>The Dark Knight Rises</th>\n      <td>Color</td>\n      <td>Christopher Nolan</td>\n      <td>813.0</td>\n      <td>164.0</td>\n      <td>448130642.0</td>\n      <td>2701.0</td>\n      <td>USA</td>\n      <td>PG-13</td>\n      <td>250000000.0</td>\n      <td>2012.0</td>\n      <td>8.5</td>\n      <td>Action</td>\n    </tr>\n    <tr>\n      <th>Star Wars: Episode VII - The Force Awakens</th>\n      <td>NaN</td>\n      <td>Doug Walker</td>\n      <td>NaN</td>\n      <td>NaN</td>\n      <td>NaN</td>\n      <td>NaN</td>\n      <td>NaN</td>\n      <td>NaN</td>\n      <td>NaN</td>\n      <td>NaN</td>\n      <td>7.1</td>\n      <td>Documentary</td>\n    </tr>\n  </tbody>\n</table>\n</div>"
     },
     "execution_count": 12,
     "metadata": {},
     "output_type": "execute_result"
    }
   ],
   "source": [
    "movies = pd.read_csv('files/movies.csv',\n",
    "                     sep='|', header=None, names=column_names,\n",
    "                     thousands=',', na_values='?', index_col='movie_title')\n",
    "movies.head()"
   ],
   "metadata": {
    "collapsed": false
   }
  },
  {
   "cell_type": "code",
   "execution_count": null,
   "outputs": [],
   "source": [],
   "metadata": {
    "collapsed": false
   }
  }
 ],
 "metadata": {
  "kernelspec": {
   "display_name": "Python 3",
   "language": "python",
   "name": "python3"
  },
  "language_info": {
   "codemirror_mode": {
    "name": "ipython",
    "version": 2
   },
   "file_extension": ".py",
   "mimetype": "text/x-python",
   "name": "python",
   "nbconvert_exporter": "python",
   "pygments_lexer": "ipython2",
   "version": "2.7.6"
  }
 },
 "nbformat": 4,
 "nbformat_minor": 0
}
